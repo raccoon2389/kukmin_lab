{
 "metadata": {
  "language_info": {
   "codemirror_mode": {
    "name": "ipython",
    "version": 3
   },
   "file_extension": ".py",
   "mimetype": "text/x-python",
   "name": "python",
   "nbconvert_exporter": "python",
   "pygments_lexer": "ipython3",
   "version": "3.7.9-final"
  },
  "orig_nbformat": 2,
  "kernelspec": {
   "name": "python3",
   "display_name": "Python 3.7.9 64-bit ('torch': conda)",
   "metadata": {
    "interpreter": {
     "hash": "193e62dfd21ce8f4cfda5009e359ec1d14402c28d88fcde8ae35126ab3d7c6db"
    }
   }
  }
 },
 "nbformat": 4,
 "nbformat_minor": 2,
 "cells": [
  {
   "cell_type": "code",
   "execution_count": null,
   "metadata": {},
   "outputs": [],
   "source": [
    "import pandas as pd\n",
    "import numpy as np\n",
    "from glob import glob\n"
   ]
  },
  {
   "source": [
    "import pandas as pd\n",
    "import numpy as np\n",
    "from glob import glob\n",
    "\n",
    "\n",
    "path2pkl = glob('kisti_http/data/*.pkl')\n",
    "# print(path2pkl)\n",
    "l=[]\n",
    "for idx,path in enumerate(path2pkl):\n",
    "    path = path.split(\"\\\\\")[-1]\n",
    "    df = pd.DataFrame(pd.read_pickle(f\"kisti_http/data/{path}\"),index=None)\n",
    "    pay = df.loc[df[\"decodePayload\"].str.contains('GET' or 'POST',na=False)]\n",
    "    \n",
    "    pay.to_pickle(f\"kisti_http\\\\data\\\\Requests\\\\{path}\")\n",
    "    l.append(pay)\n",
    "\n",
    "\n",
    "\n",
    "df = l[0].concat(l[1:])\n",
    "df.to_pickle(f\"kisti_http\\\\data\\\\Requests\\\\stacked.pkl\")\n",
    "print(df)"
   ],
   "cell_type": "code",
   "metadata": {},
   "execution_count": null,
   "outputs": []
  },
  {
   "cell_type": "code",
   "execution_count": null,
   "metadata": {},
   "outputs": [],
   "source": [
    "df = pd.DataFrame(pd.read_pickle(path2pkl[2]),index=None)\n",
    "data_path = glob('kisti_http/data/*.pkl')\n"
   ]
  },
  {
   "cell_type": "code",
   "execution_count": null,
   "metadata": {},
   "outputs": [],
   "source": [
    "print(df.columns)"
   ]
  },
  {
   "cell_type": "code",
   "execution_count": null,
   "metadata": {},
   "outputs": [],
   "source": [
    "pay = df.loc[df[\"decodePayload\"].str.contains('GET' or 'POST')]\n",
    "pay.shape"
   ]
  },
  {
   "cell_type": "code",
   "execution_count": null,
   "metadata": {},
   "outputs": [],
   "source": [
    "pay.to_pickle(f\"data\\\\{path2pkl[1]}\")"
   ]
  },
  {
   "cell_type": "code",
   "execution_count": null,
   "metadata": {},
   "outputs": [],
   "source": []
  },
  {
   "cell_type": "code",
   "execution_count": null,
   "metadata": {},
   "outputs": [],
   "source": []
  }
 ]
}