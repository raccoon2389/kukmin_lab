{
 "metadata": {
  "language_info": {
   "codemirror_mode": {
    "name": "ipython",
    "version": 3
   },
   "file_extension": ".py",
   "mimetype": "text/x-python",
   "name": "python",
   "nbconvert_exporter": "python",
   "pygments_lexer": "ipython3",
   "version": "3.7.9-final"
  },
  "orig_nbformat": 2,
  "kernelspec": {
   "name": "python3",
   "display_name": "Python 3.7.9 64-bit ('torch': conda)",
   "metadata": {
    "interpreter": {
     "hash": "193e62dfd21ce8f4cfda5009e359ec1d14402c28d88fcde8ae35126ab3d7c6db"
    }
   }
  }
 },
 "nbformat": 4,
 "nbformat_minor": 2,
 "cells": [
  {
   "cell_type": "code",
   "execution_count": 1,
   "metadata": {},
   "outputs": [],
   "source": [
    "import pandas as pd\n",
    "import numpy as np\n"
   ]
  },
  {
   "cell_type": "code",
   "execution_count": 4,
   "metadata": {},
   "outputs": [],
   "source": [
    "log = pd.read_csv('dataset/EClog HTTP_level e_commerce data based on server access logs for an online store/eclog_1day.csv',header=0,index_col=None)\n",
    "log = log.loc[:,\"Uri\"]"
   ]
  },
  {
   "cell_type": "code",
   "execution_count": 5,
   "metadata": {},
   "outputs": [
    {
     "output_type": "stream",
     "name": "stdout",
     "text": [
      "0    /inne/informacja_online.php\n1    /inne/informacja_online.php\n2      /wyszukiwanie-query1.html\n3    /inne/informacja_online.php\n4    /inne/informacja_online.php\nName: Uri, dtype: object\n"
     ]
    }
   ],
   "source": [
    "print(log.head())"
   ]
  },
  {
   "cell_type": "code",
   "execution_count": 4,
   "metadata": {},
   "outputs": [],
   "source": [
    "# print(log.loc[:,'Uri'].unique().size)\n",
    "# print(log.size)"
   ]
  },
  {
   "cell_type": "code",
   "execution_count": 5,
   "metadata": {},
   "outputs": [],
   "source": [
    "# log.loc[:,'Uri'].to_csv('dataset/eclog_uri.csv')"
   ]
  },
  {
   "cell_type": "code",
   "execution_count": 6,
   "metadata": {},
   "outputs": [],
   "source": [
    "# log = pd.read_csv('dataset/eclog_uri.csv',header=0,index_col=0)"
   ]
  },
  {
   "cell_type": "code",
   "execution_count": 7,
   "metadata": {},
   "outputs": [
    {
     "output_type": "stream",
     "name": "stdout",
     "text": [
      "                                                        Uri\n0                                              /p-9710.html\n1         /szablony/shop_11.rwd/css/style.php?ncss=style...\n2                                   /javascript/skrypty.php\n3                                   /javascript/produkt.php\n4            /szablony/shop_11.rwd/obrazki/szablon/info.png\n...                                                     ...\n35157686                        /inne/informacja_online.php\n35157687                       /wyszukiwanie-query6283.html\n35157688                             /images/image11466.jpg\n35157689                   /images/mini/250px_image9012.jpg\n35157690                        /inne/informacja_online.php\n\n[35157691 rows x 1 columns]\n"
     ]
    }
   ],
   "source": [
    "print(log)"
   ]
  },
  {
   "cell_type": "code",
   "execution_count": 8,
   "metadata": {},
   "outputs": [],
   "source": [
    "tmp = []\n",
    "max = 0\n",
    "for i,data in enumerate(log.loc[:,'Uri']):\n",
    "    data = data.split(\"/\")\n",
    "    if len(data)>max:\n",
    "        max= len(data)\n",
    "    tmp.append(data)\n",
    "    \n"
   ]
  },
  {
   "cell_type": "code",
   "execution_count": 9,
   "metadata": {},
   "outputs": [
    {
     "output_type": "stream",
     "name": "stdout",
     "text": [
      "['p-9710.html']\n['szablony', 'shop_11.rwd', 'css', 'style.php?ncss=style,boxy,moduly,produkt']\n['javascript', 'skrypty.php']\n['javascript', 'produkt.php']\n['szablony', 'shop_11.rwd', 'obrazki', 'szablon', 'info.png']\n['szablony', 'shop_11.rwd', 'obrazki', 'ikony', 'gwiazdka.png']\n['images', 'mini', '250px_image1.jpg']\n['inne', 'informacja_online.php']\n['inne', 'informacja_online.php']\n['images', 'mini', '70px_image2.jpg']\n"
     ]
    }
   ],
   "source": [
    "for i in range(10):\n",
    "    print(tmp[i][1:])"
   ]
  },
  {
   "cell_type": "code",
   "execution_count": 10,
   "metadata": {},
   "outputs": [],
   "source": [
    "data = np.zeros((35157691,max))"
   ]
  },
  {
   "cell_type": "code",
   "execution_count": 11,
   "metadata": {},
   "outputs": [],
   "source": [
    "voca=[]"
   ]
  },
  {
   "cell_type": "code",
   "execution_count": 12,
   "metadata": {},
   "outputs": [
    {
     "output_type": "display_data",
     "data": {
      "text/plain": "0it [00:00, ?it/s]",
      "application/vnd.jupyter.widget-view+json": {
       "version_major": 2,
       "version_minor": 0,
       "model_id": "e77ff9b8858f43f286eed9b38a813753"
      }
     },
     "metadata": {}
    }
   ],
   "source": [
    "from tqdm.notebook import tqdm\n",
    "for s_i,sentence in tqdm(enumerate(tmp)):\n",
    "    for w_i, word in enumerate(sentence):\n",
    "        try: \n",
    "            voca_idx = voca.index(word)\n",
    "        except ValueError:\n",
    "            voca_idx = -1\n",
    "        if voca_idx==-1:\n",
    "            voca.append(word)\n",
    "            voca_idx= len(voca)-1\n",
    "        data[s_i,w_i]=voca_idx"
   ]
  },
  {
   "cell_type": "code",
   "execution_count": null,
   "metadata": {},
   "outputs": [],
   "source": [
    "for i in range(10):\n",
    "    print(data[i])"
   ]
  },
  {
   "cell_type": "code",
   "execution_count": 16,
   "metadata": {},
   "outputs": [],
   "source": [
    "import pickle\n",
    "\n",
    "with open(\"./voca.pickle\",\"wb\") as fw:\n",
    "    pickle.dump(voca,fw,protocol=4)\n",
    "with open(\"./data.pickle\",\"wb\") as dw:\n",
    "    pickle.dump(data,dw,protocol=4)\n"
   ]
  },
  {
   "cell_type": "code",
   "execution_count": 20,
   "metadata": {},
   "outputs": [],
   "source": [
    "np.save('data.npy',data)"
   ]
  },
  {
   "cell_type": "code",
   "execution_count": 19,
   "metadata": {},
   "outputs": [
    {
     "output_type": "stream",
     "name": "stdout",
     "text": [
      "591183\n"
     ]
    }
   ],
   "source": [
    "print(len(voca))\n"
   ]
  },
  {
   "cell_type": "code",
   "execution_count": 23,
   "metadata": {},
   "outputs": [],
   "source": [
    "import torch\n",
    "import torch.nn as nn\n",
    "from torch.utils.data import dataloader,dataset\n",
    "\n",
    "class Dataset(dataset.Dataset):\n",
    "    def __init__(self,data):\n",
    "        super(Dataset,self).__init__()\n",
    "        self.input = data\n",
    "        self.output = data\n",
    "    def __getitem__(self,index):\n",
    "        return torch.LongTensor(self.input[index]),torch.LongTensor(self.output[index])\n",
    "    def __len__(self):\n",
    "        return len(self.input)\n",
    "train_set = Dataset(data)\n",
    "train_loader = dataloader.DataLoader(train_set,batch_size=512,shuffle=True)"
   ]
  },
  {
   "cell_type": "code",
   "execution_count": null,
   "metadata": {},
   "outputs": [],
   "source": [
    "class Model(nn.Module):\n",
    "    def __init__(self,input_size,hidden_size,output_size):\n",
    "        super(Model,self).__init__()\n",
    "        self.hidden_size = hidden_size\n",
    "        self.input_size = input_size\n",
    "        self.output_size = output_size\n",
    "        self.encode = nn.Sequential(\n",
    "            nn.Embedding(input_size,hidden_size),\n",
    "            nn.GRU(hidden_size,output_size)\n",
    "        )\n",
    "        self.decode = nn.Sequential(\n",
    "            nn.GRU(output_size,hidden_size)\n",
    "        )"
   ]
  }
 ]
}