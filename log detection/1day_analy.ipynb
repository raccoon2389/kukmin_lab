{
 "metadata": {
  "language_info": {
   "codemirror_mode": {
    "name": "ipython",
    "version": 3
   },
   "file_extension": ".py",
   "mimetype": "text/x-python",
   "name": "python",
   "nbconvert_exporter": "python",
   "pygments_lexer": "ipython3",
   "version": "3.7.9-final"
  },
  "orig_nbformat": 2,
  "kernelspec": {
   "name": "python3",
   "display_name": "Python 3.7.9 64-bit ('torch': conda)",
   "metadata": {
    "interpreter": {
     "hash": "193e62dfd21ce8f4cfda5009e359ec1d14402c28d88fcde8ae35126ab3d7c6db"
    }
   }
  }
 },
 "nbformat": 4,
 "nbformat_minor": 2,
 "cells": [
  {
   "cell_type": "code",
   "execution_count": 1,
   "metadata": {},
   "outputs": [],
   "source": [
    "import pandas as pd\n",
    "import numpy as np\n",
    "import urllib.parse as parse"
   ]
  },
  {
   "cell_type": "code",
   "execution_count": 2,
   "metadata": {},
   "outputs": [],
   "source": [
    "# log = pd.read_csv('dataset/EClog HTTP_level e_commerce data based on server access logs for an online store/eclog_1day.csv',header=0,index_col=None)\n",
    "log = pd.read_csv('dataset/EClog HTTP_level e_commerce data based on server access logs for an online store/eclog.csv',header=0,index_col=None)\n",
    "\n",
    "log = log.loc[:,\"Uri\"]"
   ]
  },
  {
   "cell_type": "code",
   "execution_count": 3,
   "metadata": {},
   "outputs": [],
   "source": [
    "data = []\n",
    "for i in log:\n",
    "    data.append(parse.urlsplit(i))"
   ]
  },
  {
   "cell_type": "code",
   "execution_count": 4,
   "metadata": {
    "tags": []
   },
   "outputs": [
    {
     "output_type": "stream",
     "name": "stdout",
     "text": [
      "[SplitResult(scheme='', netloc='', path='/p-9710.html', query='', fragment=''), SplitResult(scheme='', netloc='', path='/szablony/shop_11.rwd/css/style.php', query='ncss=style,boxy,moduly,produkt', fragment=''), SplitResult(scheme='', netloc='', path='/javascript/skrypty.php', query='', fragment=''), SplitResult(scheme='', netloc='', path='/javascript/produkt.php', query='', fragment=''), SplitResult(scheme='', netloc='', path='/szablony/shop_11.rwd/obrazki/szablon/info.png', query='', fragment=''), SplitResult(scheme='', netloc='', path='/szablony/shop_11.rwd/obrazki/ikony/gwiazdka.png', query='', fragment=''), SplitResult(scheme='', netloc='', path='/images/mini/250px_image1.jpg', query='', fragment=''), SplitResult(scheme='', netloc='', path='/inne/informacja_online.php', query='', fragment=''), SplitResult(scheme='', netloc='', path='/inne/informacja_online.php', query='', fragment=''), SplitResult(scheme='', netloc='', path='/images/mini/70px_image2.jpg', query='', fragment='')]\n"
     ]
    }
   ],
   "source": [
    "print(data[0:10])"
   ]
  },
  {
   "cell_type": "code",
   "execution_count": 5,
   "metadata": {},
   "outputs": [],
   "source": [
    "frame = pd.DataFrame(data)"
   ]
  },
  {
   "cell_type": "code",
   "execution_count": 6,
   "metadata": {},
   "outputs": [
    {
     "output_type": "execute_result",
     "data": {
      "text/plain": [
       "         scheme netloc                                            path  \\\n",
       "0                                                         /p-9710.html   \n",
       "1                                  /szablony/shop_11.rwd/css/style.php   \n",
       "2                                              /javascript/skrypty.php   \n",
       "3                                              /javascript/produkt.php   \n",
       "4                       /szablony/shop_11.rwd/obrazki/szablon/info.png   \n",
       "...         ...    ...                                             ...   \n",
       "35157686                                   /inne/informacja_online.php   \n",
       "35157687                                  /wyszukiwanie-query6283.html   \n",
       "35157688                                        /images/image11466.jpg   \n",
       "35157689                              /images/mini/250px_image9012.jpg   \n",
       "35157690                                   /inne/informacja_online.php   \n",
       "\n",
       "                                   query fragment  \n",
       "0                                                  \n",
       "1         ncss=style,boxy,moduly,produkt           \n",
       "2                                                  \n",
       "3                                                  \n",
       "4                                                  \n",
       "...                                  ...      ...  \n",
       "35157686                                           \n",
       "35157687                                           \n",
       "35157688                                           \n",
       "35157689                                           \n",
       "35157690                                           \n",
       "\n",
       "[35157691 rows x 5 columns]"
      ],
      "text/html": "<div>\n<style scoped>\n    .dataframe tbody tr th:only-of-type {\n        vertical-align: middle;\n    }\n\n    .dataframe tbody tr th {\n        vertical-align: top;\n    }\n\n    .dataframe thead th {\n        text-align: right;\n    }\n</style>\n<table border=\"1\" class=\"dataframe\">\n  <thead>\n    <tr style=\"text-align: right;\">\n      <th></th>\n      <th>scheme</th>\n      <th>netloc</th>\n      <th>path</th>\n      <th>query</th>\n      <th>fragment</th>\n    </tr>\n  </thead>\n  <tbody>\n    <tr>\n      <th>0</th>\n      <td></td>\n      <td></td>\n      <td>/p-9710.html</td>\n      <td></td>\n      <td></td>\n    </tr>\n    <tr>\n      <th>1</th>\n      <td></td>\n      <td></td>\n      <td>/szablony/shop_11.rwd/css/style.php</td>\n      <td>ncss=style,boxy,moduly,produkt</td>\n      <td></td>\n    </tr>\n    <tr>\n      <th>2</th>\n      <td></td>\n      <td></td>\n      <td>/javascript/skrypty.php</td>\n      <td></td>\n      <td></td>\n    </tr>\n    <tr>\n      <th>3</th>\n      <td></td>\n      <td></td>\n      <td>/javascript/produkt.php</td>\n      <td></td>\n      <td></td>\n    </tr>\n    <tr>\n      <th>4</th>\n      <td></td>\n      <td></td>\n      <td>/szablony/shop_11.rwd/obrazki/szablon/info.png</td>\n      <td></td>\n      <td></td>\n    </tr>\n    <tr>\n      <th>...</th>\n      <td>...</td>\n      <td>...</td>\n      <td>...</td>\n      <td>...</td>\n      <td>...</td>\n    </tr>\n    <tr>\n      <th>35157686</th>\n      <td></td>\n      <td></td>\n      <td>/inne/informacja_online.php</td>\n      <td></td>\n      <td></td>\n    </tr>\n    <tr>\n      <th>35157687</th>\n      <td></td>\n      <td></td>\n      <td>/wyszukiwanie-query6283.html</td>\n      <td></td>\n      <td></td>\n    </tr>\n    <tr>\n      <th>35157688</th>\n      <td></td>\n      <td></td>\n      <td>/images/image11466.jpg</td>\n      <td></td>\n      <td></td>\n    </tr>\n    <tr>\n      <th>35157689</th>\n      <td></td>\n      <td></td>\n      <td>/images/mini/250px_image9012.jpg</td>\n      <td></td>\n      <td></td>\n    </tr>\n    <tr>\n      <th>35157690</th>\n      <td></td>\n      <td></td>\n      <td>/inne/informacja_online.php</td>\n      <td></td>\n      <td></td>\n    </tr>\n  </tbody>\n</table>\n<p>35157691 rows × 5 columns</p>\n</div>"
     },
     "metadata": {},
     "execution_count": 6
    }
   ],
   "source": [
    "frame"
   ]
  },
  {
   "cell_type": "code",
   "execution_count": 7,
   "metadata": {},
   "outputs": [
    {
     "output_type": "stream",
     "name": "stdout",
     "text": [
      "scheme  :  (3,)\n",
      "netloc  :  (41,)\n",
      "path  :  (206951,)\n",
      "query  :  (397438,)\n",
      "fragment  :  (4,)\n"
     ]
    }
   ],
   "source": [
    "for col in frame:\n",
    "    print(col,\" : \",frame[col].unique().shape)"
   ]
  },
  {
   "cell_type": "code",
   "execution_count": 8,
   "metadata": {},
   "outputs": [
    {
     "output_type": "stream",
     "name": "stdout",
     "text": [
      "scheme  :  ['' 'http' 'https']\n",
      "netloc  :  ['' 'ipaddress3' 'wp-includes' 'xmlrpc.php' 'blog' 'web' 'wordpress'\n",
      " 'website' 'wp' 'news' '2018' '2019' 'shop' 'wp1' 'test' 'media' 'wp2'\n",
      " 'site' 'cms' 'sito' 'phpThumb.php' 'util' 'admin' 'a2billing'\n",
      " 'ipaddress8' '.env' 'ipaddress10' 'language' 'vtigercrm' '2020' 'old'\n",
      " 'wp-login.php' 'ipaddress30' 'fxcity.co.kr' 'wp-admin'\n",
      " 'zamowienie-podsumowanie.html' 'inne' 'javascript' 'page5' 'page30'\n",
      " 'index.php']\n",
      "path  :  ['/p-9710.html' '/szablony/shop_11.rwd/css/style.php'\n",
      " '/javascript/skrypty.php' ...\n",
      " '/szukaj.html/szukaj=query12922/fraza=tak/opis=tak/sopis=nie/nrkat=tak'\n",
      " '/szukaj.html/szukaj=query10809/fraza=tak/opis=tak/nrkat=tak/sopis=nie/s=5'\n",
      " '/szukaj.html/szukaj=query17584/fraza=tak/opis=tak/nrkat=tak/sopis=nie']\n",
      "query  :  ['' 'ncss=style,boxy,moduly,produkt'\n",
      " 'gclid=EAIaIQobChMIlPOcx4ST5gIViOd3Ch37IwyYEAQYAiABEgKfLfD_BwE' ...\n",
      " 'tok=5hygx2nlt0ych1ln' 'tok=rhfg82gli0dc41' 'tok=kgycnp6v4rhk2j5h1g32']\n",
      "fragment  :  [''\n",
      " 'D\\\\x98+\\\\xCA\\\\xF0\\\\xA7\\\\xBBl\\\\xC5\\\\x19\\\\xD7\\\\x8D\\\\xB6\\\\x18\\\\xEDJ\\\\x1En\\\\xC1\\\\xF9xu[l\\\\xF0E\\\\x1D-j\\\\xEC\\\\xD4xL\\\\xC9r\\\\xC9\\\\x15\\\\x10u\\\\xE0%\\\\x86Rtg\\\\x05fv\\\\x86]%\\\\xCC\\\\x80\\\\x0C\\\\xE8\\\\xCF\\\\xAE\\\\x00\\\\xB5\\\\xC0f\\\\xC8\\\\x8DD\\\\xC5\\\\x09\\\\xF4'\n",
      " '5h[\\\\xE4\\\\xC5\\\\x16\\\\xF7wBr=\\\\xB1'\n",
      " '\\\\xB08DB\\\\xF0\\\\xD1\\\\x98\\\\x1E\\\\x01\\\\xE4\\\\xE0\\\\xDC\\\\xA4=\\\\xB1']\n"
     ]
    }
   ],
   "source": [
    "for col in frame:\n",
    "    print(col,\" : \",frame[col].unique())"
   ]
  },
  {
   "cell_type": "code",
   "execution_count": 10,
   "metadata": {},
   "outputs": [],
   "source": [
    "frame.to_csv(\"dataset/url_parser.csv\")"
   ]
  }
 ]
}