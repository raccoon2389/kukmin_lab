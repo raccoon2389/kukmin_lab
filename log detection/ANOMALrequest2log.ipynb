{
 "metadata": {
  "language_info": {
   "codemirror_mode": {
    "name": "ipython",
    "version": 3
   },
   "file_extension": ".py",
   "mimetype": "text/x-python",
   "name": "python",
   "nbconvert_exporter": "python",
   "pygments_lexer": "ipython3",
   "version": "3.7.9-final"
  },
  "orig_nbformat": 2,
  "kernelspec": {
   "name": "python3",
   "display_name": "Python 3.7.9 64-bit ('torch': conda)",
   "metadata": {
    "interpreter": {
     "hash": "193e62dfd21ce8f4cfda5009e359ec1d14402c28d88fcde8ae35126ab3d7c6db"
    }
   }
  }
 },
 "nbformat": 4,
 "nbformat_minor": 2,
 "cells": [
  {
   "cell_type": "code",
   "execution_count": 1,
   "metadata": {},
   "outputs": [],
   "source": [
    "import pandas as pd\n",
    "import numpy as np\n",
    "import urllib.parse as parse"
   ]
  },
  {
   "cell_type": "code",
   "execution_count": 2,
   "metadata": {
    "tags": []
   },
   "outputs": [],
   "source": [
    "lines = []\n",
    "\n",
    "with open('dataset/csic2010/anomalousTrafficTest copy.txt') as f:\n",
    "    ls = f.readlines()\n",
    "    switch = 0\n",
    "    for l in ls:\n",
    "        l = l.split()\n",
    "        try :\n",
    "            if l[0]==\"Request:\":\n",
    "                switch=1\n",
    "        except IndexError:\n",
    "            switch=0\n",
    "        \n",
    "        \n",
    "        if switch == 1:\n",
    "            lines.append(l)\n",
    "        else:\n",
    "            try :\n",
    "                # print(l)\n",
    "                l[0]\n",
    "                l =[\"Arg:\" , \"\".join(l)]\n",
    "                # print(l)                \n",
    "                lines.append(l)\n",
    "                switch=0\n",
    "                # break\n",
    "            except :\n",
    "                pass\n",
    "f.close()"
   ]
  },
  {
   "cell_type": "code",
   "execution_count": 3,
   "metadata": {},
   "outputs": [],
   "source": [
    "df = pd.DataFrame(lines)"
   ]
  },
  {
   "cell_type": "code",
   "execution_count": 4,
   "metadata": {},
   "outputs": [
    {
     "output_type": "stream",
     "name": "stdout",
     "text": [
      "['Request:' 'User-Agent:' 'Pragma:' 'Cache-control:' 'Accept:'\n 'Accept-Encoding:' 'Accept-Charset:' 'Accept-Language:' 'Host:' 'Cookie:'\n 'Connection:' 'Content-Type:' 'Content-Length:' 'Arg:']\n"
     ]
    },
    {
     "output_type": "execute_result",
     "data": {
      "text/plain": [
       "                   0                                                  1  \\\n",
       "19             Host:                                     localhost:8080   \n",
       "20           Cookie:        JSESSIONID=AE29AEEBDE479D5E1A18B4108C8E3CE0   \n",
       "21     Content-Type:                  application/x-www-form-urlencoded   \n",
       "22       Connection:                                              close   \n",
       "23   Content-Length:                                                146   \n",
       "24              Arg:  id=2&nombre=Jam%F3n+Ib%E9rico&precio=85&cantid...   \n",
       "25          Request:                                                GET   \n",
       "26       User-Agent:                                        Mozilla/5.0   \n",
       "27           Pragma:                                           no-cache   \n",
       "28    Cache-control:                                           no-cache   \n",
       "29           Accept:  text/xml,application/xml,application/xhtml+xml...   \n",
       "30  Accept-Encoding:                                            x-gzip,   \n",
       "31   Accept-Charset:                                             utf-8,   \n",
       "32  Accept-Language:                                                 en   \n",
       "33             Host:                                     localhost:8080   \n",
       "34           Cookie:        JSESSIONID=F563B5262843F12ECAE41815ABDEEA54   \n",
       "35       Connection:                                              close   \n",
       "36          Request:                                               POST   \n",
       "37       User-Agent:                                        Mozilla/5.0   \n",
       "38           Pragma:                                           no-cache   \n",
       "39    Cache-control:                                           no-cache   \n",
       "\n",
       "                                                    2               3  \\\n",
       "19                                               None            None   \n",
       "20                                               None            None   \n",
       "21                                               None            None   \n",
       "22                                               None            None   \n",
       "23                                               None            None   \n",
       "24                                               None            None   \n",
       "25  http://localhost:8080/tienda1/publico/anadir.j...        HTTP/1.1   \n",
       "26                                       (compatible;  Konqueror/3.5;   \n",
       "27                                               None            None   \n",
       "28                                               None            None   \n",
       "29                                               None            None   \n",
       "30                                         x-deflate,           gzip,   \n",
       "31                                       utf-8;q=0.5,         *;q=0.5   \n",
       "32                                               None            None   \n",
       "33                                               None            None   \n",
       "34                                               None            None   \n",
       "35                                               None            None   \n",
       "36   http://localhost:8080/tienda1/publico/anadir.jsp        HTTP/1.1   \n",
       "37                                       (compatible;  Konqueror/3.5;   \n",
       "38                                               None            None   \n",
       "39                                               None            None   \n",
       "\n",
       "          4            5      6       7  \n",
       "19     None         None   None    None  \n",
       "20     None         None   None    None  \n",
       "21     None         None   None    None  \n",
       "22     None         None   None    None  \n",
       "23     None         None   None    None  \n",
       "24     None         None   None    None  \n",
       "25     None         None   None    None  \n",
       "26   Linux)  KHTML/3.5.8  (like  Gecko)  \n",
       "27     None         None   None    None  \n",
       "28     None         None   None    None  \n",
       "29     None         None   None    None  \n",
       "30  deflate         None   None    None  \n",
       "31     None         None   None    None  \n",
       "32     None         None   None    None  \n",
       "33     None         None   None    None  \n",
       "34     None         None   None    None  \n",
       "35     None         None   None    None  \n",
       "36     None         None   None    None  \n",
       "37   Linux)  KHTML/3.5.8  (like  Gecko)  \n",
       "38     None         None   None    None  \n",
       "39     None         None   None    None  "
      ],
      "text/html": "<div>\n<style scoped>\n    .dataframe tbody tr th:only-of-type {\n        vertical-align: middle;\n    }\n\n    .dataframe tbody tr th {\n        vertical-align: top;\n    }\n\n    .dataframe thead th {\n        text-align: right;\n    }\n</style>\n<table border=\"1\" class=\"dataframe\">\n  <thead>\n    <tr style=\"text-align: right;\">\n      <th></th>\n      <th>0</th>\n      <th>1</th>\n      <th>2</th>\n      <th>3</th>\n      <th>4</th>\n      <th>5</th>\n      <th>6</th>\n      <th>7</th>\n    </tr>\n  </thead>\n  <tbody>\n    <tr>\n      <th>19</th>\n      <td>Host:</td>\n      <td>localhost:8080</td>\n      <td>None</td>\n      <td>None</td>\n      <td>None</td>\n      <td>None</td>\n      <td>None</td>\n      <td>None</td>\n    </tr>\n    <tr>\n      <th>20</th>\n      <td>Cookie:</td>\n      <td>JSESSIONID=AE29AEEBDE479D5E1A18B4108C8E3CE0</td>\n      <td>None</td>\n      <td>None</td>\n      <td>None</td>\n      <td>None</td>\n      <td>None</td>\n      <td>None</td>\n    </tr>\n    <tr>\n      <th>21</th>\n      <td>Content-Type:</td>\n      <td>application/x-www-form-urlencoded</td>\n      <td>None</td>\n      <td>None</td>\n      <td>None</td>\n      <td>None</td>\n      <td>None</td>\n      <td>None</td>\n    </tr>\n    <tr>\n      <th>22</th>\n      <td>Connection:</td>\n      <td>close</td>\n      <td>None</td>\n      <td>None</td>\n      <td>None</td>\n      <td>None</td>\n      <td>None</td>\n      <td>None</td>\n    </tr>\n    <tr>\n      <th>23</th>\n      <td>Content-Length:</td>\n      <td>146</td>\n      <td>None</td>\n      <td>None</td>\n      <td>None</td>\n      <td>None</td>\n      <td>None</td>\n      <td>None</td>\n    </tr>\n    <tr>\n      <th>24</th>\n      <td>Arg:</td>\n      <td>id=2&amp;nombre=Jam%F3n+Ib%E9rico&amp;precio=85&amp;cantid...</td>\n      <td>None</td>\n      <td>None</td>\n      <td>None</td>\n      <td>None</td>\n      <td>None</td>\n      <td>None</td>\n    </tr>\n    <tr>\n      <th>25</th>\n      <td>Request:</td>\n      <td>GET</td>\n      <td>http://localhost:8080/tienda1/publico/anadir.j...</td>\n      <td>HTTP/1.1</td>\n      <td>None</td>\n      <td>None</td>\n      <td>None</td>\n      <td>None</td>\n    </tr>\n    <tr>\n      <th>26</th>\n      <td>User-Agent:</td>\n      <td>Mozilla/5.0</td>\n      <td>(compatible;</td>\n      <td>Konqueror/3.5;</td>\n      <td>Linux)</td>\n      <td>KHTML/3.5.8</td>\n      <td>(like</td>\n      <td>Gecko)</td>\n    </tr>\n    <tr>\n      <th>27</th>\n      <td>Pragma:</td>\n      <td>no-cache</td>\n      <td>None</td>\n      <td>None</td>\n      <td>None</td>\n      <td>None</td>\n      <td>None</td>\n      <td>None</td>\n    </tr>\n    <tr>\n      <th>28</th>\n      <td>Cache-control:</td>\n      <td>no-cache</td>\n      <td>None</td>\n      <td>None</td>\n      <td>None</td>\n      <td>None</td>\n      <td>None</td>\n      <td>None</td>\n    </tr>\n    <tr>\n      <th>29</th>\n      <td>Accept:</td>\n      <td>text/xml,application/xml,application/xhtml+xml...</td>\n      <td>None</td>\n      <td>None</td>\n      <td>None</td>\n      <td>None</td>\n      <td>None</td>\n      <td>None</td>\n    </tr>\n    <tr>\n      <th>30</th>\n      <td>Accept-Encoding:</td>\n      <td>x-gzip,</td>\n      <td>x-deflate,</td>\n      <td>gzip,</td>\n      <td>deflate</td>\n      <td>None</td>\n      <td>None</td>\n      <td>None</td>\n    </tr>\n    <tr>\n      <th>31</th>\n      <td>Accept-Charset:</td>\n      <td>utf-8,</td>\n      <td>utf-8;q=0.5,</td>\n      <td>*;q=0.5</td>\n      <td>None</td>\n      <td>None</td>\n      <td>None</td>\n      <td>None</td>\n    </tr>\n    <tr>\n      <th>32</th>\n      <td>Accept-Language:</td>\n      <td>en</td>\n      <td>None</td>\n      <td>None</td>\n      <td>None</td>\n      <td>None</td>\n      <td>None</td>\n      <td>None</td>\n    </tr>\n    <tr>\n      <th>33</th>\n      <td>Host:</td>\n      <td>localhost:8080</td>\n      <td>None</td>\n      <td>None</td>\n      <td>None</td>\n      <td>None</td>\n      <td>None</td>\n      <td>None</td>\n    </tr>\n    <tr>\n      <th>34</th>\n      <td>Cookie:</td>\n      <td>JSESSIONID=F563B5262843F12ECAE41815ABDEEA54</td>\n      <td>None</td>\n      <td>None</td>\n      <td>None</td>\n      <td>None</td>\n      <td>None</td>\n      <td>None</td>\n    </tr>\n    <tr>\n      <th>35</th>\n      <td>Connection:</td>\n      <td>close</td>\n      <td>None</td>\n      <td>None</td>\n      <td>None</td>\n      <td>None</td>\n      <td>None</td>\n      <td>None</td>\n    </tr>\n    <tr>\n      <th>36</th>\n      <td>Request:</td>\n      <td>POST</td>\n      <td>http://localhost:8080/tienda1/publico/anadir.jsp</td>\n      <td>HTTP/1.1</td>\n      <td>None</td>\n      <td>None</td>\n      <td>None</td>\n      <td>None</td>\n    </tr>\n    <tr>\n      <th>37</th>\n      <td>User-Agent:</td>\n      <td>Mozilla/5.0</td>\n      <td>(compatible;</td>\n      <td>Konqueror/3.5;</td>\n      <td>Linux)</td>\n      <td>KHTML/3.5.8</td>\n      <td>(like</td>\n      <td>Gecko)</td>\n    </tr>\n    <tr>\n      <th>38</th>\n      <td>Pragma:</td>\n      <td>no-cache</td>\n      <td>None</td>\n      <td>None</td>\n      <td>None</td>\n      <td>None</td>\n      <td>None</td>\n      <td>None</td>\n    </tr>\n    <tr>\n      <th>39</th>\n      <td>Cache-control:</td>\n      <td>no-cache</td>\n      <td>None</td>\n      <td>None</td>\n      <td>None</td>\n      <td>None</td>\n      <td>None</td>\n      <td>None</td>\n    </tr>\n  </tbody>\n</table>\n</div>"
     },
     "metadata": {},
     "execution_count": 4
    }
   ],
   "source": [
    "print(df.iloc[:,0].unique())\n",
    "df.iloc[19:40,:]"
   ]
  },
  {
   "cell_type": "code",
   "execution_count": 5,
   "metadata": {},
   "outputs": [],
   "source": [
    "cols = df.iloc[:,0].unique()\n",
    "a =[\"Method:\",\"Path:\",\"HTTP_ver:\"]\n",
    "for i in cols:\n",
    "    a.append(i)\n",
    "cols = a"
   ]
  },
  {
   "cell_type": "code",
   "execution_count": 6,
   "metadata": {},
   "outputs": [
    {
     "output_type": "stream",
     "name": "stdout",
     "text": [
      "['Method:', 'Path:', 'HTTP_ver:', 'Request:', 'User-Agent:', 'Pragma:', 'Cache-control:', 'Accept:', 'Accept-Encoding:', 'Accept-Charset:', 'Accept-Language:', 'Host:', 'Cookie:', 'Connection:', 'Content-Type:', 'Content-Length:', 'Arg:']\n"
     ]
    }
   ],
   "source": [
    "print(cols)"
   ]
  },
  {
   "cell_type": "code",
   "execution_count": 7,
   "metadata": {},
   "outputs": [],
   "source": [
    "datf = pd.DataFrame(columns=cols)"
   ]
  },
  {
   "cell_type": "code",
   "execution_count": 8,
   "metadata": {},
   "outputs": [
    {
     "output_type": "execute_result",
     "data": {
      "text/plain": [
       "Empty DataFrame\n",
       "Columns: [Method:, Path:, HTTP_ver:, Request:, User-Agent:, Pragma:, Cache-control:, Accept:, Accept-Encoding:, Accept-Charset:, Accept-Language:, Host:, Cookie:, Connection:, Content-Type:, Content-Length:, Arg:]\n",
       "Index: []"
      ],
      "text/html": "<div>\n<style scoped>\n    .dataframe tbody tr th:only-of-type {\n        vertical-align: middle;\n    }\n\n    .dataframe tbody tr th {\n        vertical-align: top;\n    }\n\n    .dataframe thead th {\n        text-align: right;\n    }\n</style>\n<table border=\"1\" class=\"dataframe\">\n  <thead>\n    <tr style=\"text-align: right;\">\n      <th></th>\n      <th>Method:</th>\n      <th>Path:</th>\n      <th>HTTP_ver:</th>\n      <th>Request:</th>\n      <th>User-Agent:</th>\n      <th>Pragma:</th>\n      <th>Cache-control:</th>\n      <th>Accept:</th>\n      <th>Accept-Encoding:</th>\n      <th>Accept-Charset:</th>\n      <th>Accept-Language:</th>\n      <th>Host:</th>\n      <th>Cookie:</th>\n      <th>Connection:</th>\n      <th>Content-Type:</th>\n      <th>Content-Length:</th>\n      <th>Arg:</th>\n    </tr>\n  </thead>\n  <tbody>\n  </tbody>\n</table>\n</div>"
     },
     "metadata": {},
     "execution_count": 8
    }
   ],
   "source": [
    "datf"
   ]
  },
  {
   "cell_type": "code",
   "execution_count": 9,
   "metadata": {},
   "outputs": [],
   "source": [
    "# datf.append({'Request:':10},ignore_index=True)"
   ]
  },
  {
   "cell_type": "code",
   "execution_count": 10,
   "metadata": {
    "tags": []
   },
   "outputs": [
    {
     "output_type": "display_data",
     "data": {
      "text/plain": "  0%|          | 0/305646 [00:00<?, ?it/s]",
      "application/vnd.jupyter.widget-view+json": {
       "version_major": 2,
       "version_minor": 0,
       "model_id": "e3b3f854ff384e97b864c9f32148ef54"
      }
     },
     "metadata": {}
    }
   ],
   "source": [
    "import re\n",
    "d={}\n",
    "from tqdm.notebook import tqdm\n",
    "for l in tqdm(lines):\n",
    "    # print(l)\n",
    "    # i = re.compile(l[0])\n",
    "    if 'R' in l[0]:\n",
    "        datf=datf.append(d,ignore_index=True)\n",
    "        # print(l)\n",
    "        d={\"Method:\":l[1],\"Path:\":l[2],\"HTTP_ver:\":l[3]}\n",
    "        # print(d)\n",
    "    else:\n",
    "        d[l[0]]=\", \".join(l[1:])\n",
    "\n",
    "    # break"
   ]
  },
  {
   "cell_type": "code",
   "execution_count": 11,
   "metadata": {},
   "outputs": [
    {
     "output_type": "stream",
     "name": "stdout",
     "text": [
      "      Method:                                              Path: HTTP_ver:  \\\n0         NaN                                                NaN       NaN   \n1         GET  http://localhost:8080/tienda1/publico/anadir.j...  HTTP/1.1   \n2        POST   http://localhost:8080/tienda1/publico/anadir.jsp  HTTP/1.1   \n3         GET  http://localhost:8080/tienda1/publico/anadir.j...  HTTP/1.1   \n4        POST   http://localhost:8080/tienda1/publico/anadir.jsp  HTTP/1.1   \n...       ...                                                ...       ...   \n24663    POST  http://localhost:8080/tienda1/miembros/editar.jsp  HTTP/1.1   \n24664     GET  http://localhost:8080/tienda1/miembros/editar....  HTTP/1.1   \n24665    POST  http://localhost:8080/tienda1/miembros/editar.jsp  HTTP/1.1   \n24666     GET  http://localhost:8080/tienda1/miembros/editar....  HTTP/1.1   \n24667     GET      http://localhost:8080/tienda1/imagenes/3.gif/  HTTP/1.1   \n\n      Request:                                        User-Agent:   Pragma:  \\\n0          NaN                                                NaN       NaN   \n1          NaN  Mozilla/5.0, (compatible;, Konqueror/3.5;, Lin...  no-cache   \n2          NaN  Mozilla/5.0, (compatible;, Konqueror/3.5;, Lin...  no-cache   \n3          NaN  Mozilla/5.0, (compatible;, Konqueror/3.5;, Lin...  no-cache   \n4          NaN  Mozilla/5.0, (compatible;, Konqueror/3.5;, Lin...  no-cache   \n...        ...                                                ...       ...   \n24663      NaN  Mozilla/5.0, (compatible;, Konqueror/3.5;, Lin...  no-cache   \n24664      NaN  Mozilla/5.0, (compatible;, Konqueror/3.5;, Lin...  no-cache   \n24665      NaN  Mozilla/5.0, (compatible;, Konqueror/3.5;, Lin...  no-cache   \n24666      NaN  Mozilla/5.0, (compatible;, Konqueror/3.5;, Lin...  no-cache   \n24667      NaN  Mozilla/5.0, (compatible;, Konqueror/3.5;, Lin...  no-cache   \n\n      Cache-control:                                            Accept:  \\\n0                NaN                                                NaN   \n1           no-cache  text/xml,application/xml,application/xhtml+xml...   \n2           no-cache  text/xml,application/xml,application/xhtml+xml...   \n3           no-cache  text/xml,application/xml,application/xhtml+xml...   \n4           no-cache  text/xml,application/xml,application/xhtml+xml...   \n...              ...                                                ...   \n24663       no-cache  text/xml,application/xml,application/xhtml+xml...   \n24664       no-cache  text/xml,application/xml,application/xhtml+xml...   \n24665       no-cache  text/xml,application/xml,application/xhtml+xml...   \n24666       no-cache  text/xml,application/xml,application/xhtml+xml...   \n24667       no-cache  text/xml,application/xml,application/xhtml+xml...   \n\n                          Accept-Encoding:                Accept-Charset:  \\\n0                                      NaN                            NaN   \n1      x-gzip,, x-deflate,, gzip,, deflate  utf-8,, utf-8;q=0.5,, *;q=0.5   \n2      x-gzip,, x-deflate,, gzip,, deflate  utf-8,, utf-8;q=0.5,, *;q=0.5   \n3      x-gzip,, x-deflate,, gzip,, deflate  utf-8,, utf-8;q=0.5,, *;q=0.5   \n4      x-gzip,, x-deflate,, gzip,, deflate  utf-8,, utf-8;q=0.5,, *;q=0.5   \n...                                    ...                            ...   \n24663  x-gzip,, x-deflate,, gzip,, deflate  utf-8,, utf-8;q=0.5,, *;q=0.5   \n24664  x-gzip,, x-deflate,, gzip,, deflate  utf-8,, utf-8;q=0.5,, *;q=0.5   \n24665  x-gzip,, x-deflate,, gzip,, deflate  utf-8,, utf-8;q=0.5,, *;q=0.5   \n24666  x-gzip,, x-deflate,, gzip,, deflate  utf-8,, utf-8;q=0.5,, *;q=0.5   \n24667  x-gzip,, x-deflate,, gzip,, deflate  utf-8,, utf-8;q=0.5,, *;q=0.5   \n\n      Accept-Language:           Host:  \\\n0                  NaN             NaN   \n1                   en  localhost:8080   \n2                   en  localhost:8080   \n3                   en  localhost:8080   \n4                   en  localhost:8080   \n...                ...             ...   \n24663               en  localhost:8080   \n24664               en  localhost:8080   \n24665               en  localhost:8080   \n24666               en  localhost:8080   \n24667               en  localhost:8080   \n\n                                           Cookie: Connection:  \\\n0                                              NaN         NaN   \n1      JSESSIONID=B92A8B48B9008CD29F622A994E0F650D       close   \n2      JSESSIONID=AE29AEEBDE479D5E1A18B4108C8E3CE0       close   \n3      JSESSIONID=F563B5262843F12ECAE41815ABDEEA54       close   \n4      JSESSIONID=3B654D6DF7F1466EE80D7F756B00E5D1       close   \n...                                            ...         ...   \n24663  JSESSIONID=FF1E81BBBDE5DB7E90A3EAF067A22F89       close   \n24664  JSESSIONID=62216ADBBD9B91E17CA9AFEDCCC36275       close   \n24665  JSESSIONID=2317F5C0B1B7FAD18EB425E98DB102A3       close   \n24666  JSESSIONID=7F0BA54A88B849EF752006D388E15CDD       close   \n24667  JSESSIONID=FB018FFB06011CFABD60D8E8AD58CA21       close   \n\n                           Content-Type: Content-Length:  \\\n0                                    NaN             NaN   \n1                                    NaN             NaN   \n2      application/x-www-form-urlencoded             146   \n3                                    NaN             NaN   \n4      application/x-www-form-urlencoded              77   \n...                                  ...             ...   \n24663  application/x-www-form-urlencoded             258   \n24664                                NaN             NaN   \n24665  application/x-www-form-urlencoded             255   \n24666                                NaN             NaN   \n24667                                NaN             NaN   \n\n                                                    Arg:  \n0                                                    NaN  \n1                                                    NaN  \n2      id=2&nombre=Jam%F3n+Ib%E9rico&precio=85&cantid...  \n3                                                    NaN  \n4      id=2%2F&nombre=Jam%F3n+Ib%E9rico&precio=85&can...  \n...                                                  ...  \n24663  modo=registro&login=%2Bmel%2Fhem&password=quEr...  \n24664                                                NaN  \n24665  modo=registro&login=beaumont&password=quEratIt...  \n24666                                                NaN  \n24667                                                NaN  \n\n[24668 rows x 17 columns]\n"
     ]
    }
   ],
   "source": [
    "print(datf)"
   ]
  },
  {
   "cell_type": "code",
   "execution_count": 12,
   "metadata": {},
   "outputs": [],
   "source": [
    "datf.to_csv('dataset/req2logANOMAL.csv')"
   ]
  },
  {
   "cell_type": "code",
   "execution_count": null,
   "metadata": {},
   "outputs": [],
   "source": []
  }
 ]
}