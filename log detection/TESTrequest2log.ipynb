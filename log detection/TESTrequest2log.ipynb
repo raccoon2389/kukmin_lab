{
 "metadata": {
  "language_info": {
   "codemirror_mode": {
    "name": "ipython",
    "version": 3
   },
   "file_extension": ".py",
   "mimetype": "text/x-python",
   "name": "python",
   "nbconvert_exporter": "python",
   "pygments_lexer": "ipython3",
   "version": "3.7.9-final"
  },
  "orig_nbformat": 2,
  "kernelspec": {
   "name": "python3",
   "display_name": "Python 3.7.9 64-bit ('torch': conda)",
   "metadata": {
    "interpreter": {
     "hash": "193e62dfd21ce8f4cfda5009e359ec1d14402c28d88fcde8ae35126ab3d7c6db"
    }
   }
  }
 },
 "nbformat": 4,
 "nbformat_minor": 2,
 "cells": [
  {
   "cell_type": "code",
   "execution_count": 1,
   "metadata": {},
   "outputs": [],
   "source": [
    "import pandas as pd\n",
    "import numpy as np\n",
    "import urllib.parse as parse"
   ]
  },
  {
   "cell_type": "code",
   "execution_count": 2,
   "metadata": {
    "tags": []
   },
   "outputs": [],
   "source": [
    "lines = []\n",
    "\n",
    "with open('dataset/csic2010/normalTrafficTest copy.txt') as f:\n",
    "    ls = f.readlines()\n",
    "    switch = 0\n",
    "    for l in ls:\n",
    "        l = l.split()\n",
    "        try :\n",
    "            if l[0]==\"Request:\":\n",
    "                switch=1\n",
    "        except IndexError:\n",
    "            switch=0\n",
    "        \n",
    "        \n",
    "        if switch == 1:\n",
    "            lines.append(l)\n",
    "        else:\n",
    "            try :\n",
    "                # print(l)\n",
    "                l[0]\n",
    "                l =[\"Arg:\" , \"\".join(l)]\n",
    "                # print(l)                \n",
    "                lines.append(l)\n",
    "                switch=0\n",
    "                # break\n",
    "            except :\n",
    "                pass\n",
    "f.close()"
   ]
  },
  {
   "cell_type": "code",
   "execution_count": 3,
   "metadata": {},
   "outputs": [],
   "source": [
    "df = pd.DataFrame(lines)"
   ]
  },
  {
   "cell_type": "code",
   "execution_count": 4,
   "metadata": {},
   "outputs": [
    {
     "output_type": "stream",
     "name": "stdout",
     "text": [
      "['Request:' 'User-Agent:' 'Pragma:' 'Cache-control:' 'Accept:'\n 'Accept-Encoding:' 'Accept-Charset:' 'Accept-Language:' 'Host:' 'Cookie:'\n 'Connection:' 'Content-Type:' 'Content-Length:' 'Arg:']\n"
     ]
    },
    {
     "output_type": "execute_result",
     "data": {
      "text/plain": [
       "                   0                                                  1  \\\n",
       "19             Host:                                     localhost:8080   \n",
       "20           Cookie:        JSESSIONID=54E25FF4B7F0E4E855B112F882E9EEA5   \n",
       "21       Connection:                                              close   \n",
       "22          Request:                                               POST   \n",
       "23       User-Agent:                                        Mozilla/5.0   \n",
       "24           Pragma:                                           no-cache   \n",
       "25    Cache-control:                                           no-cache   \n",
       "26           Accept:  text/xml,application/xml,application/xhtml+xml...   \n",
       "27  Accept-Encoding:                                            x-gzip,   \n",
       "28   Accept-Charset:                                             utf-8,   \n",
       "29  Accept-Language:                                                 en   \n",
       "30             Host:                                     localhost:8080   \n",
       "31           Cookie:        JSESSIONID=788887A0F479749C4CEEA1E268B4A501   \n",
       "32     Content-Type:                  application/x-www-form-urlencoded   \n",
       "33       Connection:                                              close   \n",
       "34   Content-Length:                                                 74   \n",
       "35              Arg:  id=1&nombre=Jam%F3n+Ib%E9rico&precio=39&cantid...   \n",
       "36          Request:                                                GET   \n",
       "37       User-Agent:                                        Mozilla/5.0   \n",
       "38           Pragma:                                           no-cache   \n",
       "39    Cache-control:                                           no-cache   \n",
       "\n",
       "                                                    2               3  \\\n",
       "19                                               None            None   \n",
       "20                                               None            None   \n",
       "21                                               None            None   \n",
       "22   http://localhost:8080/tienda1/publico/anadir.jsp        HTTP/1.1   \n",
       "23                                       (compatible;  Konqueror/3.5;   \n",
       "24                                               None            None   \n",
       "25                                               None            None   \n",
       "26                                               None            None   \n",
       "27                                         x-deflate,           gzip,   \n",
       "28                                       utf-8;q=0.5,         *;q=0.5   \n",
       "29                                               None            None   \n",
       "30                                               None            None   \n",
       "31                                               None            None   \n",
       "32                                               None            None   \n",
       "33                                               None            None   \n",
       "34                                               None            None   \n",
       "35                                               None            None   \n",
       "36  http://localhost:8080/tienda1/publico/autentic...        HTTP/1.1   \n",
       "37                                       (compatible;  Konqueror/3.5;   \n",
       "38                                               None            None   \n",
       "39                                               None            None   \n",
       "\n",
       "          4            5      6       7  \n",
       "19     None         None   None    None  \n",
       "20     None         None   None    None  \n",
       "21     None         None   None    None  \n",
       "22     None         None   None    None  \n",
       "23   Linux)  KHTML/3.5.8  (like  Gecko)  \n",
       "24     None         None   None    None  \n",
       "25     None         None   None    None  \n",
       "26     None         None   None    None  \n",
       "27  deflate         None   None    None  \n",
       "28     None         None   None    None  \n",
       "29     None         None   None    None  \n",
       "30     None         None   None    None  \n",
       "31     None         None   None    None  \n",
       "32     None         None   None    None  \n",
       "33     None         None   None    None  \n",
       "34     None         None   None    None  \n",
       "35     None         None   None    None  \n",
       "36     None         None   None    None  \n",
       "37   Linux)  KHTML/3.5.8  (like  Gecko)  \n",
       "38     None         None   None    None  \n",
       "39     None         None   None    None  "
      ],
      "text/html": "<div>\n<style scoped>\n    .dataframe tbody tr th:only-of-type {\n        vertical-align: middle;\n    }\n\n    .dataframe tbody tr th {\n        vertical-align: top;\n    }\n\n    .dataframe thead th {\n        text-align: right;\n    }\n</style>\n<table border=\"1\" class=\"dataframe\">\n  <thead>\n    <tr style=\"text-align: right;\">\n      <th></th>\n      <th>0</th>\n      <th>1</th>\n      <th>2</th>\n      <th>3</th>\n      <th>4</th>\n      <th>5</th>\n      <th>6</th>\n      <th>7</th>\n    </tr>\n  </thead>\n  <tbody>\n    <tr>\n      <th>19</th>\n      <td>Host:</td>\n      <td>localhost:8080</td>\n      <td>None</td>\n      <td>None</td>\n      <td>None</td>\n      <td>None</td>\n      <td>None</td>\n      <td>None</td>\n    </tr>\n    <tr>\n      <th>20</th>\n      <td>Cookie:</td>\n      <td>JSESSIONID=54E25FF4B7F0E4E855B112F882E9EEA5</td>\n      <td>None</td>\n      <td>None</td>\n      <td>None</td>\n      <td>None</td>\n      <td>None</td>\n      <td>None</td>\n    </tr>\n    <tr>\n      <th>21</th>\n      <td>Connection:</td>\n      <td>close</td>\n      <td>None</td>\n      <td>None</td>\n      <td>None</td>\n      <td>None</td>\n      <td>None</td>\n      <td>None</td>\n    </tr>\n    <tr>\n      <th>22</th>\n      <td>Request:</td>\n      <td>POST</td>\n      <td>http://localhost:8080/tienda1/publico/anadir.jsp</td>\n      <td>HTTP/1.1</td>\n      <td>None</td>\n      <td>None</td>\n      <td>None</td>\n      <td>None</td>\n    </tr>\n    <tr>\n      <th>23</th>\n      <td>User-Agent:</td>\n      <td>Mozilla/5.0</td>\n      <td>(compatible;</td>\n      <td>Konqueror/3.5;</td>\n      <td>Linux)</td>\n      <td>KHTML/3.5.8</td>\n      <td>(like</td>\n      <td>Gecko)</td>\n    </tr>\n    <tr>\n      <th>24</th>\n      <td>Pragma:</td>\n      <td>no-cache</td>\n      <td>None</td>\n      <td>None</td>\n      <td>None</td>\n      <td>None</td>\n      <td>None</td>\n      <td>None</td>\n    </tr>\n    <tr>\n      <th>25</th>\n      <td>Cache-control:</td>\n      <td>no-cache</td>\n      <td>None</td>\n      <td>None</td>\n      <td>None</td>\n      <td>None</td>\n      <td>None</td>\n      <td>None</td>\n    </tr>\n    <tr>\n      <th>26</th>\n      <td>Accept:</td>\n      <td>text/xml,application/xml,application/xhtml+xml...</td>\n      <td>None</td>\n      <td>None</td>\n      <td>None</td>\n      <td>None</td>\n      <td>None</td>\n      <td>None</td>\n    </tr>\n    <tr>\n      <th>27</th>\n      <td>Accept-Encoding:</td>\n      <td>x-gzip,</td>\n      <td>x-deflate,</td>\n      <td>gzip,</td>\n      <td>deflate</td>\n      <td>None</td>\n      <td>None</td>\n      <td>None</td>\n    </tr>\n    <tr>\n      <th>28</th>\n      <td>Accept-Charset:</td>\n      <td>utf-8,</td>\n      <td>utf-8;q=0.5,</td>\n      <td>*;q=0.5</td>\n      <td>None</td>\n      <td>None</td>\n      <td>None</td>\n      <td>None</td>\n    </tr>\n    <tr>\n      <th>29</th>\n      <td>Accept-Language:</td>\n      <td>en</td>\n      <td>None</td>\n      <td>None</td>\n      <td>None</td>\n      <td>None</td>\n      <td>None</td>\n      <td>None</td>\n    </tr>\n    <tr>\n      <th>30</th>\n      <td>Host:</td>\n      <td>localhost:8080</td>\n      <td>None</td>\n      <td>None</td>\n      <td>None</td>\n      <td>None</td>\n      <td>None</td>\n      <td>None</td>\n    </tr>\n    <tr>\n      <th>31</th>\n      <td>Cookie:</td>\n      <td>JSESSIONID=788887A0F479749C4CEEA1E268B4A501</td>\n      <td>None</td>\n      <td>None</td>\n      <td>None</td>\n      <td>None</td>\n      <td>None</td>\n      <td>None</td>\n    </tr>\n    <tr>\n      <th>32</th>\n      <td>Content-Type:</td>\n      <td>application/x-www-form-urlencoded</td>\n      <td>None</td>\n      <td>None</td>\n      <td>None</td>\n      <td>None</td>\n      <td>None</td>\n      <td>None</td>\n    </tr>\n    <tr>\n      <th>33</th>\n      <td>Connection:</td>\n      <td>close</td>\n      <td>None</td>\n      <td>None</td>\n      <td>None</td>\n      <td>None</td>\n      <td>None</td>\n      <td>None</td>\n    </tr>\n    <tr>\n      <th>34</th>\n      <td>Content-Length:</td>\n      <td>74</td>\n      <td>None</td>\n      <td>None</td>\n      <td>None</td>\n      <td>None</td>\n      <td>None</td>\n      <td>None</td>\n    </tr>\n    <tr>\n      <th>35</th>\n      <td>Arg:</td>\n      <td>id=1&amp;nombre=Jam%F3n+Ib%E9rico&amp;precio=39&amp;cantid...</td>\n      <td>None</td>\n      <td>None</td>\n      <td>None</td>\n      <td>None</td>\n      <td>None</td>\n      <td>None</td>\n    </tr>\n    <tr>\n      <th>36</th>\n      <td>Request:</td>\n      <td>GET</td>\n      <td>http://localhost:8080/tienda1/publico/autentic...</td>\n      <td>HTTP/1.1</td>\n      <td>None</td>\n      <td>None</td>\n      <td>None</td>\n      <td>None</td>\n    </tr>\n    <tr>\n      <th>37</th>\n      <td>User-Agent:</td>\n      <td>Mozilla/5.0</td>\n      <td>(compatible;</td>\n      <td>Konqueror/3.5;</td>\n      <td>Linux)</td>\n      <td>KHTML/3.5.8</td>\n      <td>(like</td>\n      <td>Gecko)</td>\n    </tr>\n    <tr>\n      <th>38</th>\n      <td>Pragma:</td>\n      <td>no-cache</td>\n      <td>None</td>\n      <td>None</td>\n      <td>None</td>\n      <td>None</td>\n      <td>None</td>\n      <td>None</td>\n    </tr>\n    <tr>\n      <th>39</th>\n      <td>Cache-control:</td>\n      <td>no-cache</td>\n      <td>None</td>\n      <td>None</td>\n      <td>None</td>\n      <td>None</td>\n      <td>None</td>\n      <td>None</td>\n    </tr>\n  </tbody>\n</table>\n</div>"
     },
     "metadata": {},
     "execution_count": 4
    }
   ],
   "source": [
    "print(df.iloc[:,0].unique())\n",
    "df.iloc[19:40,:]"
   ]
  },
  {
   "cell_type": "code",
   "execution_count": 5,
   "metadata": {},
   "outputs": [],
   "source": [
    "cols = df.iloc[:,0].unique()\n",
    "a =[\"Method:\",\"Path:\",\"HTTP_ver:\"]\n",
    "for i in cols:\n",
    "    a.append(i)\n",
    "cols = a"
   ]
  },
  {
   "cell_type": "code",
   "execution_count": 6,
   "metadata": {},
   "outputs": [
    {
     "output_type": "stream",
     "name": "stdout",
     "text": [
      "['Method:', 'Path:', 'HTTP_ver:', 'Request:', 'User-Agent:', 'Pragma:', 'Cache-control:', 'Accept:', 'Accept-Encoding:', 'Accept-Charset:', 'Accept-Language:', 'Host:', 'Cookie:', 'Connection:', 'Content-Type:', 'Content-Length:', 'Arg:']\n"
     ]
    }
   ],
   "source": [
    "print(cols)"
   ]
  },
  {
   "cell_type": "code",
   "execution_count": 7,
   "metadata": {},
   "outputs": [],
   "source": [
    "datf = pd.DataFrame(columns=cols)"
   ]
  },
  {
   "cell_type": "code",
   "execution_count": 8,
   "metadata": {},
   "outputs": [
    {
     "output_type": "execute_result",
     "data": {
      "text/plain": [
       "Empty DataFrame\n",
       "Columns: [Method:, Path:, HTTP_ver:, Request:, User-Agent:, Pragma:, Cache-control:, Accept:, Accept-Encoding:, Accept-Charset:, Accept-Language:, Host:, Cookie:, Connection:, Content-Type:, Content-Length:, Arg:]\n",
       "Index: []"
      ],
      "text/html": "<div>\n<style scoped>\n    .dataframe tbody tr th:only-of-type {\n        vertical-align: middle;\n    }\n\n    .dataframe tbody tr th {\n        vertical-align: top;\n    }\n\n    .dataframe thead th {\n        text-align: right;\n    }\n</style>\n<table border=\"1\" class=\"dataframe\">\n  <thead>\n    <tr style=\"text-align: right;\">\n      <th></th>\n      <th>Method:</th>\n      <th>Path:</th>\n      <th>HTTP_ver:</th>\n      <th>Request:</th>\n      <th>User-Agent:</th>\n      <th>Pragma:</th>\n      <th>Cache-control:</th>\n      <th>Accept:</th>\n      <th>Accept-Encoding:</th>\n      <th>Accept-Charset:</th>\n      <th>Accept-Language:</th>\n      <th>Host:</th>\n      <th>Cookie:</th>\n      <th>Connection:</th>\n      <th>Content-Type:</th>\n      <th>Content-Length:</th>\n      <th>Arg:</th>\n    </tr>\n  </thead>\n  <tbody>\n  </tbody>\n</table>\n</div>"
     },
     "metadata": {},
     "execution_count": 8
    }
   ],
   "source": [
    "datf"
   ]
  },
  {
   "cell_type": "code",
   "execution_count": 9,
   "metadata": {},
   "outputs": [],
   "source": [
    "# datf.append({'Request:':10},ignore_index=True)"
   ]
  },
  {
   "cell_type": "code",
   "execution_count": 11,
   "metadata": {
    "tags": []
   },
   "outputs": [
    {
     "output_type": "display_data",
     "data": {
      "text/plain": "  0%|          | 0/420000 [00:00<?, ?it/s]",
      "application/vnd.jupyter.widget-view+json": {
       "version_major": 2,
       "version_minor": 0,
       "model_id": "785f55c918d04065a0b9bf1c924b5eaa"
      }
     },
     "metadata": {}
    }
   ],
   "source": [
    "import re\n",
    "d={}\n",
    "from tqdm.notebook import tqdm\n",
    "for l in tqdm(lines):\n",
    "    # print(l)\n",
    "    # i = re.compile(l[0])\n",
    "    if l[0].startswith(\"R\"):\n",
    "        datf=datf.append(d,ignore_index=True)\n",
    "        # print(l)\n",
    "        d={\"Method:\":l[1],\"Path:\":l[2],\"HTTP_ver:\":l[3]}\n",
    "        # print(d)\n",
    "    else:\n",
    "        d[l[0]]=\", \".join(l[1:])\n",
    "\n",
    "    # break"
   ]
  },
  {
   "cell_type": "code",
   "execution_count": 12,
   "metadata": {},
   "outputs": [
    {
     "output_type": "stream",
     "name": "stdout",
     "text": [
      "      Method:                                              Path: HTTP_ver:  \\\n0         NaN                                                NaN       NaN   \n1         GET            http://localhost:8080/tienda1/index.jsp  HTTP/1.1   \n2         GET  http://localhost:8080/tienda1/publico/anadir.j...  HTTP/1.1   \n3        POST   http://localhost:8080/tienda1/publico/anadir.jsp  HTTP/1.1   \n4         GET  http://localhost:8080/tienda1/publico/autentic...  HTTP/1.1   \n...       ...                                                ...       ...   \n35995     GET       http://localhost:8080/tienda1/imagenes/1.gif  HTTP/1.1   \n35996     GET       http://localhost:8080/tienda1/imagenes/2.gif  HTTP/1.1   \n35997     GET       http://localhost:8080/tienda1/imagenes/3.gif  HTTP/1.1   \n35998     GET  http://localhost:8080/tienda1/imagenes/cmenbul...  HTTP/1.1   \n35999     GET    http://localhost:8080/tienda1/imagenes/logo.gif  HTTP/1.1   \n\n      Request:                                        User-Agent:   Pragma:  \\\n0          NaN                                                NaN       NaN   \n1          NaN  Mozilla/5.0, (compatible;, Konqueror/3.5;, Lin...  no-cache   \n2          NaN  Mozilla/5.0, (compatible;, Konqueror/3.5;, Lin...  no-cache   \n3          NaN  Mozilla/5.0, (compatible;, Konqueror/3.5;, Lin...  no-cache   \n4          NaN  Mozilla/5.0, (compatible;, Konqueror/3.5;, Lin...  no-cache   \n...        ...                                                ...       ...   \n35995      NaN  Mozilla/5.0, (compatible;, Konqueror/3.5;, Lin...  no-cache   \n35996      NaN  Mozilla/5.0, (compatible;, Konqueror/3.5;, Lin...  no-cache   \n35997      NaN  Mozilla/5.0, (compatible;, Konqueror/3.5;, Lin...  no-cache   \n35998      NaN  Mozilla/5.0, (compatible;, Konqueror/3.5;, Lin...  no-cache   \n35999      NaN  Mozilla/5.0, (compatible;, Konqueror/3.5;, Lin...  no-cache   \n\n      Cache-control:                                            Accept:  \\\n0                NaN                                                NaN   \n1           no-cache  text/xml,application/xml,application/xhtml+xml...   \n2           no-cache  text/xml,application/xml,application/xhtml+xml...   \n3           no-cache  text/xml,application/xml,application/xhtml+xml...   \n4           no-cache  text/xml,application/xml,application/xhtml+xml...   \n...              ...                                                ...   \n35995       no-cache  text/xml,application/xml,application/xhtml+xml...   \n35996       no-cache  text/xml,application/xml,application/xhtml+xml...   \n35997       no-cache  text/xml,application/xml,application/xhtml+xml...   \n35998       no-cache  text/xml,application/xml,application/xhtml+xml...   \n35999       no-cache  text/xml,application/xml,application/xhtml+xml...   \n\n                          Accept-Encoding:                Accept-Charset:  \\\n0                                      NaN                            NaN   \n1      x-gzip,, x-deflate,, gzip,, deflate  utf-8,, utf-8;q=0.5,, *;q=0.5   \n2      x-gzip,, x-deflate,, gzip,, deflate  utf-8,, utf-8;q=0.5,, *;q=0.5   \n3      x-gzip,, x-deflate,, gzip,, deflate  utf-8,, utf-8;q=0.5,, *;q=0.5   \n4      x-gzip,, x-deflate,, gzip,, deflate  utf-8,, utf-8;q=0.5,, *;q=0.5   \n...                                    ...                            ...   \n35995  x-gzip,, x-deflate,, gzip,, deflate  utf-8,, utf-8;q=0.5,, *;q=0.5   \n35996  x-gzip,, x-deflate,, gzip,, deflate  utf-8,, utf-8;q=0.5,, *;q=0.5   \n35997  x-gzip,, x-deflate,, gzip,, deflate  utf-8,, utf-8;q=0.5,, *;q=0.5   \n35998  x-gzip,, x-deflate,, gzip,, deflate  utf-8,, utf-8;q=0.5,, *;q=0.5   \n35999  x-gzip,, x-deflate,, gzip,, deflate  utf-8,, utf-8;q=0.5,, *;q=0.5   \n\n      Accept-Language:           Host:  \\\n0                  NaN             NaN   \n1                   en  localhost:8080   \n2                   en  localhost:8080   \n3                   en  localhost:8080   \n4                   en  localhost:8080   \n...                ...             ...   \n35995               en  localhost:8080   \n35996               en  localhost:8080   \n35997               en  localhost:8080   \n35998               en  localhost:8080   \n35999               en  localhost:8080   \n\n                                           Cookie: Connection:  \\\n0                                              NaN         NaN   \n1      JSESSIONID=EA414B3E327DED6875848530C864BD8F       close   \n2      JSESSIONID=54E25FF4B7F0E4E855B112F882E9EEA5       close   \n3      JSESSIONID=788887A0F479749C4CEEA1E268B4A501       close   \n4      JSESSIONID=94ECD5EE8EF7EFE4BB26C701B150ED7B       close   \n...                                            ...         ...   \n35995  JSESSIONID=45F0C902FB5B9D7FA05519F57AD7757B       close   \n35996  JSESSIONID=E1E16AC490F40B8484CD75E2DBE32075       close   \n35997  JSESSIONID=4567793E184E0925234DADCEECD6999A       close   \n35998  JSESSIONID=487FD70FECB4D14155C95F38C389DA0D       close   \n35999  JSESSIONID=6E0F5F3BC982DFC73B39EAD495ADCE96       close   \n\n                           Content-Type: Content-Length:  \\\n0                                    NaN             NaN   \n1                                    NaN             NaN   \n2                                    NaN             NaN   \n3      application/x-www-form-urlencoded              74   \n4                                    NaN             NaN   \n...                                  ...             ...   \n35995                                NaN             NaN   \n35996                                NaN             NaN   \n35997                                NaN             NaN   \n35998                                NaN             NaN   \n35999                                NaN             NaN   \n\n                                                    Arg:  \n0                                                    NaN  \n1                                                    NaN  \n2                                                    NaN  \n3      id=1&nombre=Jam%F3n+Ib%E9rico&precio=39&cantid...  \n4                                                    NaN  \n...                                                  ...  \n35995                                                NaN  \n35996                                                NaN  \n35997                                                NaN  \n35998                                                NaN  \n35999                                                NaN  \n\n[36000 rows x 17 columns]\n"
     ]
    }
   ],
   "source": [
    "print(datf)"
   ]
  },
  {
   "cell_type": "code",
   "execution_count": 13,
   "metadata": {},
   "outputs": [],
   "source": [
    "datf.to_csv('dataset/req2logTEST.csv')"
   ]
  },
  {
   "cell_type": "code",
   "execution_count": null,
   "metadata": {},
   "outputs": [],
   "source": []
  }
 ]
}