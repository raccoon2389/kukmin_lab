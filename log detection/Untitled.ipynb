{
 "cells": [
  {
   "cell_type": "code",
   "execution_count": 1,
   "metadata": {},
   "outputs": [],
   "source": [
    "import pandas as pd\n",
    "import numpy as np\n",
    "from tqdm.notebook import tqdm_notebook\n",
    "import pickle"
   ]
  },
  {
   "cell_type": "code",
   "execution_count": 6,
   "metadata": {},
   "outputs": [
    {
     "output_type": "stream",
     "name": "stdout",
     "text": [
      "['', 'p-9710.html', 'szablony', 'shop_11.rwd', 'css', 'style.php?ncss=style,boxy,moduly,produkt', 'javascript', 'skrypty.php', 'produkt.php', 'obrazki', 'szablon', 'info.png', 'ikony', 'gwiazdka.png', 'images', 'mini', '250px_image1.jpg', 'inne', 'informacja_online.php', '70px_image2.jpg']\n"
     ]
    }
   ],
   "source": [
    "with open('dataset/voca.pickle','rb') as f:\n",
    "    voca = pickle.load(f)\n",
    "print(voca[:20])"
   ]
  },
  {
   "cell_type": "code",
   "execution_count": 3,
   "metadata": {
    "tags": []
   },
   "outputs": [
    {
     "output_type": "stream",
     "name": "stdout",
     "text": [
      "13.66.139.0 - - [19/Dec/2020:13:57:26 +0100] \"GET /index.php?option=com_phocagallery&view=category&id=1:almhuette-raith&Itemid=53 HTTP/1.1\" 200 32653 \"-\" \"Mozilla/5.0 (compatible; bingbot/2.0; +http://www.bing.com/bingbot.htm)\" \"-\"\n\n"
     ]
    },
    {
     "output_type": "display_data",
     "data": {
      "text/plain": "  0%|          | 0/34746 [00:00<?, ?it/s]",
      "application/vnd.jupyter.widget-view+json": {
       "version_major": 2,
       "version_minor": 0,
       "model_id": "93555ec6bfb543949a09a4803e2142bf"
      }
     },
     "metadata": {}
    }
   ],
   "source": [
    "\n",
    "\n",
    "with open(\"dataset/logs.log\",\"r\",encoding=\"utf-8\") as f:\n",
    "    lines = f.readlines()\n",
    "    for l in lines:\n",
    "        print(l)\n",
    "\n",
    "        l = l.replace('\"','').split(\" \")\n",
    "        log = [l]\n",
    "        break\n",
    "\n",
    "\n",
    "    for l in tqdm_notebook(lines):\n",
    "        \n",
    "        l = l.replace('\"','').split(\" \")\n",
    "        log.append(l)"
   ]
  },
  {
   "cell_type": "code",
   "execution_count": 5,
   "metadata": {},
   "outputs": [],
   "source": [
    "logs = pd.DataFrame(log)"
   ]
  },
  {
   "cell_type": "code",
   "execution_count": 7,
   "metadata": {},
   "outputs": [
    {
     "output_type": "execute_result",
     "data": {
      "text/plain": [
       "                   0  1  2                      3       4    5   \\\n",
       "0         13.66.139.0  -  -  [19/Dec/2020:13:57:26  +0100]  GET   \n",
       "1         13.66.139.0  -  -  [19/Dec/2020:13:57:26  +0100]  GET   \n",
       "2      157.48.153.185  -  -  [19/Dec/2020:14:08:06  +0100]  GET   \n",
       "3      157.48.153.185  -  -  [19/Dec/2020:14:08:08  +0100]  GET   \n",
       "4      216.244.66.230  -  -  [19/Dec/2020:14:14:26  +0100]  GET   \n",
       "...               ... .. ..                    ...     ...  ...   \n",
       "34737   173.255.176.5  -  -  [28/Dec/2020:19:39:13  +0100]  GET   \n",
       "34738   173.255.176.5  -  -  [28/Dec/2020:19:39:13  +0100]  GET   \n",
       "34739   173.255.176.5  -  -  [28/Dec/2020:19:39:13  +0100]  GET   \n",
       "34740   173.255.176.5  -  -  [28/Dec/2020:19:39:13  +0100]  GET   \n",
       "34741   173.255.176.5  -  -  [28/Dec/2020:19:39:13  +0100]  GET   \n",
       "\n",
       "                                                      6         7    8   \\\n",
       "0      /index.php?option=com_phocagallery&view=catego...  HTTP/1.1  200   \n",
       "1      /index.php?option=com_phocagallery&view=catego...  HTTP/1.1  200   \n",
       "2                                 /apache-log/access.log  HTTP/1.1  200   \n",
       "3                                           /favicon.ico  HTTP/1.1  404   \n",
       "4                                            /robots.txt  HTTP/1.1  200   \n",
       "...                                                  ...       ...  ...   \n",
       "34737                                           /plugins  HTTP/1.1  301   \n",
       "34738        /modules/mod_bowslideshow/tmpl/js/.htaccess  HTTP/1.1  403   \n",
       "34739  /administrator/templates/system?query=query%29...  HTTP/1.1  301   \n",
       "34740                                 /plugins/.htaccess  HTTP/1.1  403   \n",
       "34741                                         /templates  HTTP/1.1  301   \n",
       "\n",
       "          9   ...    24    25    26    27    28    29    30    31    32    33  \n",
       "0      32653  ...  None  None  None  None  None  None  None  None  None  None  \n",
       "1      32653  ...  None  None  None  None  None  None  None  None  None  None  \n",
       "2        233  ...  None  None  None  None  None  None  None  None  None  None  \n",
       "3        217  ...  None  None  None  None  None  None  None  None  None  None  \n",
       "4        304  ...  None  None  None  None  None  None  None  None  None  None  \n",
       "...      ...  ...   ...   ...   ...   ...   ...   ...   ...   ...   ...   ...  \n",
       "34737    254  ...  None  None  None  None  None  None  None  None  None  None  \n",
       "34738    252  ...  None  None  None  None  None  None  None  None  None  None  \n",
       "34739    440  ...  None  None  None  None  None  None  None  None  None  None  \n",
       "34740    227  ...  None  None  None  None  None  None  None  None  None  None  \n",
       "34741    256  ...  None  None  None  None  None  None  None  None  None  None  \n",
       "\n",
       "[34742 rows x 34 columns]"
      ],
      "text/html": "<div>\n<style scoped>\n    .dataframe tbody tr th:only-of-type {\n        vertical-align: middle;\n    }\n\n    .dataframe tbody tr th {\n        vertical-align: top;\n    }\n\n    .dataframe thead th {\n        text-align: right;\n    }\n</style>\n<table border=\"1\" class=\"dataframe\">\n  <thead>\n    <tr style=\"text-align: right;\">\n      <th></th>\n      <th>0</th>\n      <th>1</th>\n      <th>2</th>\n      <th>3</th>\n      <th>4</th>\n      <th>5</th>\n      <th>6</th>\n      <th>7</th>\n      <th>8</th>\n      <th>9</th>\n      <th>...</th>\n      <th>24</th>\n      <th>25</th>\n      <th>26</th>\n      <th>27</th>\n      <th>28</th>\n      <th>29</th>\n      <th>30</th>\n      <th>31</th>\n      <th>32</th>\n      <th>33</th>\n    </tr>\n  </thead>\n  <tbody>\n    <tr>\n      <th>0</th>\n      <td>13.66.139.0</td>\n      <td>-</td>\n      <td>-</td>\n      <td>[19/Dec/2020:13:57:26</td>\n      <td>+0100]</td>\n      <td>GET</td>\n      <td>/index.php?option=com_phocagallery&amp;view=catego...</td>\n      <td>HTTP/1.1</td>\n      <td>200</td>\n      <td>32653</td>\n      <td>...</td>\n      <td>None</td>\n      <td>None</td>\n      <td>None</td>\n      <td>None</td>\n      <td>None</td>\n      <td>None</td>\n      <td>None</td>\n      <td>None</td>\n      <td>None</td>\n      <td>None</td>\n    </tr>\n    <tr>\n      <th>1</th>\n      <td>13.66.139.0</td>\n      <td>-</td>\n      <td>-</td>\n      <td>[19/Dec/2020:13:57:26</td>\n      <td>+0100]</td>\n      <td>GET</td>\n      <td>/index.php?option=com_phocagallery&amp;view=catego...</td>\n      <td>HTTP/1.1</td>\n      <td>200</td>\n      <td>32653</td>\n      <td>...</td>\n      <td>None</td>\n      <td>None</td>\n      <td>None</td>\n      <td>None</td>\n      <td>None</td>\n      <td>None</td>\n      <td>None</td>\n      <td>None</td>\n      <td>None</td>\n      <td>None</td>\n    </tr>\n    <tr>\n      <th>2</th>\n      <td>157.48.153.185</td>\n      <td>-</td>\n      <td>-</td>\n      <td>[19/Dec/2020:14:08:06</td>\n      <td>+0100]</td>\n      <td>GET</td>\n      <td>/apache-log/access.log</td>\n      <td>HTTP/1.1</td>\n      <td>200</td>\n      <td>233</td>\n      <td>...</td>\n      <td>None</td>\n      <td>None</td>\n      <td>None</td>\n      <td>None</td>\n      <td>None</td>\n      <td>None</td>\n      <td>None</td>\n      <td>None</td>\n      <td>None</td>\n      <td>None</td>\n    </tr>\n    <tr>\n      <th>3</th>\n      <td>157.48.153.185</td>\n      <td>-</td>\n      <td>-</td>\n      <td>[19/Dec/2020:14:08:08</td>\n      <td>+0100]</td>\n      <td>GET</td>\n      <td>/favicon.ico</td>\n      <td>HTTP/1.1</td>\n      <td>404</td>\n      <td>217</td>\n      <td>...</td>\n      <td>None</td>\n      <td>None</td>\n      <td>None</td>\n      <td>None</td>\n      <td>None</td>\n      <td>None</td>\n      <td>None</td>\n      <td>None</td>\n      <td>None</td>\n      <td>None</td>\n    </tr>\n    <tr>\n      <th>4</th>\n      <td>216.244.66.230</td>\n      <td>-</td>\n      <td>-</td>\n      <td>[19/Dec/2020:14:14:26</td>\n      <td>+0100]</td>\n      <td>GET</td>\n      <td>/robots.txt</td>\n      <td>HTTP/1.1</td>\n      <td>200</td>\n      <td>304</td>\n      <td>...</td>\n      <td>None</td>\n      <td>None</td>\n      <td>None</td>\n      <td>None</td>\n      <td>None</td>\n      <td>None</td>\n      <td>None</td>\n      <td>None</td>\n      <td>None</td>\n      <td>None</td>\n    </tr>\n    <tr>\n      <th>...</th>\n      <td>...</td>\n      <td>...</td>\n      <td>...</td>\n      <td>...</td>\n      <td>...</td>\n      <td>...</td>\n      <td>...</td>\n      <td>...</td>\n      <td>...</td>\n      <td>...</td>\n      <td>...</td>\n      <td>...</td>\n      <td>...</td>\n      <td>...</td>\n      <td>...</td>\n      <td>...</td>\n      <td>...</td>\n      <td>...</td>\n      <td>...</td>\n      <td>...</td>\n      <td>...</td>\n    </tr>\n    <tr>\n      <th>34737</th>\n      <td>173.255.176.5</td>\n      <td>-</td>\n      <td>-</td>\n      <td>[28/Dec/2020:19:39:13</td>\n      <td>+0100]</td>\n      <td>GET</td>\n      <td>/plugins</td>\n      <td>HTTP/1.1</td>\n      <td>301</td>\n      <td>254</td>\n      <td>...</td>\n      <td>None</td>\n      <td>None</td>\n      <td>None</td>\n      <td>None</td>\n      <td>None</td>\n      <td>None</td>\n      <td>None</td>\n      <td>None</td>\n      <td>None</td>\n      <td>None</td>\n    </tr>\n    <tr>\n      <th>34738</th>\n      <td>173.255.176.5</td>\n      <td>-</td>\n      <td>-</td>\n      <td>[28/Dec/2020:19:39:13</td>\n      <td>+0100]</td>\n      <td>GET</td>\n      <td>/modules/mod_bowslideshow/tmpl/js/.htaccess</td>\n      <td>HTTP/1.1</td>\n      <td>403</td>\n      <td>252</td>\n      <td>...</td>\n      <td>None</td>\n      <td>None</td>\n      <td>None</td>\n      <td>None</td>\n      <td>None</td>\n      <td>None</td>\n      <td>None</td>\n      <td>None</td>\n      <td>None</td>\n      <td>None</td>\n    </tr>\n    <tr>\n      <th>34739</th>\n      <td>173.255.176.5</td>\n      <td>-</td>\n      <td>-</td>\n      <td>[28/Dec/2020:19:39:13</td>\n      <td>+0100]</td>\n      <td>GET</td>\n      <td>/administrator/templates/system?query=query%29...</td>\n      <td>HTTP/1.1</td>\n      <td>301</td>\n      <td>440</td>\n      <td>...</td>\n      <td>None</td>\n      <td>None</td>\n      <td>None</td>\n      <td>None</td>\n      <td>None</td>\n      <td>None</td>\n      <td>None</td>\n      <td>None</td>\n      <td>None</td>\n      <td>None</td>\n    </tr>\n    <tr>\n      <th>34740</th>\n      <td>173.255.176.5</td>\n      <td>-</td>\n      <td>-</td>\n      <td>[28/Dec/2020:19:39:13</td>\n      <td>+0100]</td>\n      <td>GET</td>\n      <td>/plugins/.htaccess</td>\n      <td>HTTP/1.1</td>\n      <td>403</td>\n      <td>227</td>\n      <td>...</td>\n      <td>None</td>\n      <td>None</td>\n      <td>None</td>\n      <td>None</td>\n      <td>None</td>\n      <td>None</td>\n      <td>None</td>\n      <td>None</td>\n      <td>None</td>\n      <td>None</td>\n    </tr>\n    <tr>\n      <th>34741</th>\n      <td>173.255.176.5</td>\n      <td>-</td>\n      <td>-</td>\n      <td>[28/Dec/2020:19:39:13</td>\n      <td>+0100]</td>\n      <td>GET</td>\n      <td>/templates</td>\n      <td>HTTP/1.1</td>\n      <td>301</td>\n      <td>256</td>\n      <td>...</td>\n      <td>None</td>\n      <td>None</td>\n      <td>None</td>\n      <td>None</td>\n      <td>None</td>\n      <td>None</td>\n      <td>None</td>\n      <td>None</td>\n      <td>None</td>\n      <td>None</td>\n    </tr>\n  </tbody>\n</table>\n<p>34742 rows × 34 columns</p>\n</div>"
     },
     "metadata": {},
     "execution_count": 7
    }
   ],
   "source": [
    "logs.head(-5)"
   ]
  },
  {
   "cell_type": "code",
   "execution_count": 8,
   "metadata": {},
   "outputs": [],
   "source": [
    "logs.to_csv(\"dataset/logs.csv\")"
   ]
  }
 ],
 "metadata": {
  "kernelspec": {
   "name": "python3",
   "display_name": "Python 3.7.9 64-bit ('torch': conda)",
   "metadata": {
    "interpreter": {
     "hash": "193e62dfd21ce8f4cfda5009e359ec1d14402c28d88fcde8ae35126ab3d7c6db"
    }
   }
  },
  "language_info": {
   "codemirror_mode": {
    "name": "ipython",
    "version": 3
   },
   "file_extension": ".py",
   "mimetype": "text/x-python",
   "name": "python",
   "nbconvert_exporter": "python",
   "pygments_lexer": "ipython3",
   "version": "3.7.9-final"
  }
 },
 "nbformat": 4,
 "nbformat_minor": 4
}