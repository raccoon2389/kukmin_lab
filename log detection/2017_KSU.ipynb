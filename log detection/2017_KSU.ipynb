{
 "metadata": {
  "language_info": {
   "codemirror_mode": {
    "name": "ipython",
    "version": 3
   },
   "file_extension": ".py",
   "mimetype": "text/x-python",
   "name": "python",
   "nbconvert_exporter": "python",
   "pygments_lexer": "ipython3",
   "version": "3.7.9-final"
  },
  "orig_nbformat": 2,
  "kernelspec": {
   "name": "python3",
   "display_name": "Python 3.7.9 64-bit ('torch': conda)",
   "metadata": {
    "interpreter": {
     "hash": "193e62dfd21ce8f4cfda5009e359ec1d14402c28d88fcde8ae35126ab3d7c6db"
    }
   }
  }
 },
 "nbformat": 4,
 "nbformat_minor": 2,
 "cells": [
  {
   "cell_type": "code",
   "execution_count": 1,
   "metadata": {},
   "outputs": [],
   "source": [
    "import pandas as pd\n",
    "import numpy as np\n",
    "import urllib.parse as parse"
   ]
  },
  {
   "cell_type": "code",
   "execution_count": 2,
   "metadata": {},
   "outputs": [],
   "source": [
    "df = pd.read_csv('dataset/req2log.csv',index_col=0)\n",
    "cols = df.columns\n",
    "df = df.drop(index=0,axis=0)\n",
    "df = df.reset_index(drop=True)"
   ]
  },
  {
   "cell_type": "code",
   "execution_count": 3,
   "metadata": {},
   "outputs": [],
   "source": [
    "req_len = df.loc[:,\"Method:\":\"HTTP_ver:\"]"
   ]
  },
  {
   "cell_type": "code",
   "execution_count": 4,
   "metadata": {},
   "outputs": [
    {
     "output_type": "execute_result",
     "data": {
      "text/plain": [
       "      Method:                                              Path: HTTP_ver:\n",
       "0         GET            http://localhost:8080/tienda1/index.jsp  HTTP/1.1\n",
       "1         GET  http://localhost:8080/tienda1/publico/anadir.j...  HTTP/1.1\n",
       "2        POST   http://localhost:8080/tienda1/publico/anadir.jsp  HTTP/1.1\n",
       "3         GET  http://localhost:8080/tienda1/publico/autentic...  HTTP/1.1\n",
       "4        POST  http://localhost:8080/tienda1/publico/autentic...  HTTP/1.1\n",
       "...       ...                                                ...       ...\n",
       "35994     GET       http://localhost:8080/tienda1/imagenes/1.gif  HTTP/1.1\n",
       "35995     GET       http://localhost:8080/tienda1/imagenes/2.gif  HTTP/1.1\n",
       "35996     GET       http://localhost:8080/tienda1/imagenes/3.gif  HTTP/1.1\n",
       "35997     GET  http://localhost:8080/tienda1/imagenes/cmenbul...  HTTP/1.1\n",
       "35998     GET    http://localhost:8080/tienda1/imagenes/logo.gif  HTTP/1.1\n",
       "\n",
       "[35999 rows x 3 columns]"
      ],
      "text/html": "<div>\n<style scoped>\n    .dataframe tbody tr th:only-of-type {\n        vertical-align: middle;\n    }\n\n    .dataframe tbody tr th {\n        vertical-align: top;\n    }\n\n    .dataframe thead th {\n        text-align: right;\n    }\n</style>\n<table border=\"1\" class=\"dataframe\">\n  <thead>\n    <tr style=\"text-align: right;\">\n      <th></th>\n      <th>Method:</th>\n      <th>Path:</th>\n      <th>HTTP_ver:</th>\n    </tr>\n  </thead>\n  <tbody>\n    <tr>\n      <th>0</th>\n      <td>GET</td>\n      <td>http://localhost:8080/tienda1/index.jsp</td>\n      <td>HTTP/1.1</td>\n    </tr>\n    <tr>\n      <th>1</th>\n      <td>GET</td>\n      <td>http://localhost:8080/tienda1/publico/anadir.j...</td>\n      <td>HTTP/1.1</td>\n    </tr>\n    <tr>\n      <th>2</th>\n      <td>POST</td>\n      <td>http://localhost:8080/tienda1/publico/anadir.jsp</td>\n      <td>HTTP/1.1</td>\n    </tr>\n    <tr>\n      <th>3</th>\n      <td>GET</td>\n      <td>http://localhost:8080/tienda1/publico/autentic...</td>\n      <td>HTTP/1.1</td>\n    </tr>\n    <tr>\n      <th>4</th>\n      <td>POST</td>\n      <td>http://localhost:8080/tienda1/publico/autentic...</td>\n      <td>HTTP/1.1</td>\n    </tr>\n    <tr>\n      <th>...</th>\n      <td>...</td>\n      <td>...</td>\n      <td>...</td>\n    </tr>\n    <tr>\n      <th>35994</th>\n      <td>GET</td>\n      <td>http://localhost:8080/tienda1/imagenes/1.gif</td>\n      <td>HTTP/1.1</td>\n    </tr>\n    <tr>\n      <th>35995</th>\n      <td>GET</td>\n      <td>http://localhost:8080/tienda1/imagenes/2.gif</td>\n      <td>HTTP/1.1</td>\n    </tr>\n    <tr>\n      <th>35996</th>\n      <td>GET</td>\n      <td>http://localhost:8080/tienda1/imagenes/3.gif</td>\n      <td>HTTP/1.1</td>\n    </tr>\n    <tr>\n      <th>35997</th>\n      <td>GET</td>\n      <td>http://localhost:8080/tienda1/imagenes/cmenbul...</td>\n      <td>HTTP/1.1</td>\n    </tr>\n    <tr>\n      <th>35998</th>\n      <td>GET</td>\n      <td>http://localhost:8080/tienda1/imagenes/logo.gif</td>\n      <td>HTTP/1.1</td>\n    </tr>\n  </tbody>\n</table>\n<p>35999 rows × 3 columns</p>\n</div>"
     },
     "metadata": {},
     "execution_count": 4
    }
   ],
   "source": [
    "req_len"
   ]
  },
  {
   "cell_type": "code",
   "execution_count": 5,
   "metadata": {},
   "outputs": [
    {
     "output_type": "execute_result",
     "data": {
      "text/plain": [
       "(35999, 1)"
      ]
     },
     "metadata": {},
     "execution_count": 5
    }
   ],
   "source": [
    "req__len = np.zeros((req_len.shape[0],1))\n",
    "req__len.shape"
   ]
  },
  {
   "cell_type": "code",
   "execution_count": 6,
   "metadata": {
    "tags": []
   },
   "outputs": [
    {
     "output_type": "display_data",
     "data": {
      "text/plain": "0it [00:00, ?it/s]",
      "application/vnd.jupyter.widget-view+json": {
       "version_major": 2,
       "version_minor": 0,
       "model_id": "099bc7fd54984470ba4f07feeafe998e"
      }
     },
     "metadata": {}
    }
   ],
   "source": [
    "from tqdm.notebook import tqdm\n",
    "for i,d in tqdm(enumerate(req_len.itertuples(index=False))):\n",
    "    leng =0\n",
    "    for o in d:\n",
    "        leng +=len(repr(o))\n",
    "    req__len[i]=leng"
   ]
  },
  {
   "cell_type": "code",
   "execution_count": 7,
   "metadata": {},
   "outputs": [
    {
     "output_type": "stream",
     "name": "stdout",
     "text": [
      "[[ 56.]\n [134.]\n [ 66.]\n ...\n [ 61.]\n [ 67.]\n [ 64.]]\n"
     ]
    }
   ],
   "source": [
    "print(req__len)"
   ]
  },
  {
   "cell_type": "code",
   "execution_count": 8,
   "metadata": {},
   "outputs": [],
   "source": [
    "arg_len = df.loc[:,[\"Path:\",\"Arg:\"]]"
   ]
  },
  {
   "cell_type": "code",
   "execution_count": 9,
   "metadata": {},
   "outputs": [
    {
     "output_type": "execute_result",
     "data": {
      "text/plain": [
       "                                                   Path:  \\\n",
       "0                http://localhost:8080/tienda1/index.jsp   \n",
       "1      http://localhost:8080/tienda1/publico/anadir.j...   \n",
       "2       http://localhost:8080/tienda1/publico/anadir.jsp   \n",
       "3      http://localhost:8080/tienda1/publico/autentic...   \n",
       "4      http://localhost:8080/tienda1/publico/autentic...   \n",
       "...                                                  ...   \n",
       "35994       http://localhost:8080/tienda1/imagenes/1.gif   \n",
       "35995       http://localhost:8080/tienda1/imagenes/2.gif   \n",
       "35996       http://localhost:8080/tienda1/imagenes/3.gif   \n",
       "35997  http://localhost:8080/tienda1/imagenes/cmenbul...   \n",
       "35998    http://localhost:8080/tienda1/imagenes/logo.gif   \n",
       "\n",
       "                                                    Arg:  \n",
       "0                                                    NaN  \n",
       "1                                                    NaN  \n",
       "2      id=3&nombre=Vino+Rioja&precio=100&cantidad=55&...  \n",
       "3                                                    NaN  \n",
       "4      modo=entrar&login=choong&pwd=d1se3ci%F3n&remem...  \n",
       "...                                                  ...  \n",
       "35994                                                NaN  \n",
       "35995                                                NaN  \n",
       "35996                                                NaN  \n",
       "35997                                                NaN  \n",
       "35998                                                NaN  \n",
       "\n",
       "[35999 rows x 2 columns]"
      ],
      "text/html": "<div>\n<style scoped>\n    .dataframe tbody tr th:only-of-type {\n        vertical-align: middle;\n    }\n\n    .dataframe tbody tr th {\n        vertical-align: top;\n    }\n\n    .dataframe thead th {\n        text-align: right;\n    }\n</style>\n<table border=\"1\" class=\"dataframe\">\n  <thead>\n    <tr style=\"text-align: right;\">\n      <th></th>\n      <th>Path:</th>\n      <th>Arg:</th>\n    </tr>\n  </thead>\n  <tbody>\n    <tr>\n      <th>0</th>\n      <td>http://localhost:8080/tienda1/index.jsp</td>\n      <td>NaN</td>\n    </tr>\n    <tr>\n      <th>1</th>\n      <td>http://localhost:8080/tienda1/publico/anadir.j...</td>\n      <td>NaN</td>\n    </tr>\n    <tr>\n      <th>2</th>\n      <td>http://localhost:8080/tienda1/publico/anadir.jsp</td>\n      <td>id=3&amp;nombre=Vino+Rioja&amp;precio=100&amp;cantidad=55&amp;...</td>\n    </tr>\n    <tr>\n      <th>3</th>\n      <td>http://localhost:8080/tienda1/publico/autentic...</td>\n      <td>NaN</td>\n    </tr>\n    <tr>\n      <th>4</th>\n      <td>http://localhost:8080/tienda1/publico/autentic...</td>\n      <td>modo=entrar&amp;login=choong&amp;pwd=d1se3ci%F3n&amp;remem...</td>\n    </tr>\n    <tr>\n      <th>...</th>\n      <td>...</td>\n      <td>...</td>\n    </tr>\n    <tr>\n      <th>35994</th>\n      <td>http://localhost:8080/tienda1/imagenes/1.gif</td>\n      <td>NaN</td>\n    </tr>\n    <tr>\n      <th>35995</th>\n      <td>http://localhost:8080/tienda1/imagenes/2.gif</td>\n      <td>NaN</td>\n    </tr>\n    <tr>\n      <th>35996</th>\n      <td>http://localhost:8080/tienda1/imagenes/3.gif</td>\n      <td>NaN</td>\n    </tr>\n    <tr>\n      <th>35997</th>\n      <td>http://localhost:8080/tienda1/imagenes/cmenbul...</td>\n      <td>NaN</td>\n    </tr>\n    <tr>\n      <th>35998</th>\n      <td>http://localhost:8080/tienda1/imagenes/logo.gif</td>\n      <td>NaN</td>\n    </tr>\n  </tbody>\n</table>\n<p>35999 rows × 2 columns</p>\n</div>"
     },
     "metadata": {},
     "execution_count": 9
    }
   ],
   "source": [
    "arg_len"
   ]
  },
  {
   "cell_type": "code",
   "execution_count": 20,
   "metadata": {
    "tags": []
   },
   "outputs": [],
   "source": [
    "arg__len = np.zeros((arg_len.shape[0]))\n",
    "import math\n",
    "for i,d in enumerate(arg_len.itertuples(index=False)):\n",
    "    try:\n",
    "        if math.isnan(d[1]):\n",
    "            try:\n",
    "                arg = d[0].split('?')\n",
    "                # print(d)\n",
    "                arg = arg[1]        \n",
    "            except IndexError:\n",
    "                arg = ''\n",
    "    except:\n",
    "        arg=d[1]\n",
    "    # print(arg)\n",
    "    # print(len(repr(arg)))\n",
    "    # break\n",
    "    arg__len[i]= len(repr(arg))"
   ]
  },
  {
   "cell_type": "code",
   "execution_count": 21,
   "metadata": {},
   "outputs": [
    {
     "output_type": "execute_result",
     "data": {
      "text/plain": [
       "array([ 3., 70., 70., ...,  3.,  3.,  3.])"
      ]
     },
     "metadata": {},
     "execution_count": 21
    }
   ],
   "source": [
    "arg__len = arg__len-2"
   ]
  },
  {
   "cell_type": "code",
   "execution_count": 12,
   "metadata": {},
   "outputs": [],
   "source": [
    "# import math\n",
    "# arg_ = []\n",
    "# for i,d in enumerate(arg_len.itertuples(index=False)):\n",
    "#     try:\n",
    "#         if math.isnan(d[1]):\n",
    "#             try:\n",
    "#                 arg = d[0].split('?')\n",
    "#                 # print(d)\n",
    "#                 arg = arg[1]        \n",
    "#             except IndexError:\n",
    "#                 arg = ''\n",
    "#     except:\n",
    "#         arg=d[1]\n",
    "#     arg_.append(arg)"
   ]
  },
  {
   "cell_type": "code",
   "execution_count": 13,
   "metadata": {},
   "outputs": [],
   "source": [
    "# df2 = pd.DataFrame(arg_,index=None,columns=['Arg:'])"
   ]
  },
  {
   "cell_type": "code",
   "execution_count": 14,
   "metadata": {},
   "outputs": [
    {
     "output_type": "execute_result",
     "data": {
      "text/plain": [
       "                                                    Arg:\n",
       "0                                                       \n",
       "1      id=3&nombre=Vino+Rioja&precio=100&cantidad=55&...\n",
       "2      id=3&nombre=Vino+Rioja&precio=100&cantidad=55&...\n",
       "3      modo=entrar&login=choong&pwd=d1se3ci%F3n&remem...\n",
       "4      modo=entrar&login=choong&pwd=d1se3ci%F3n&remem...\n",
       "...                                                  ...\n",
       "35994                                                   \n",
       "35995                                                   \n",
       "35996                                                   \n",
       "35997                                                   \n",
       "35998                                                   \n",
       "\n",
       "[35999 rows x 1 columns]"
      ],
      "text/html": "<div>\n<style scoped>\n    .dataframe tbody tr th:only-of-type {\n        vertical-align: middle;\n    }\n\n    .dataframe tbody tr th {\n        vertical-align: top;\n    }\n\n    .dataframe thead th {\n        text-align: right;\n    }\n</style>\n<table border=\"1\" class=\"dataframe\">\n  <thead>\n    <tr style=\"text-align: right;\">\n      <th></th>\n      <th>Arg:</th>\n    </tr>\n  </thead>\n  <tbody>\n    <tr>\n      <th>0</th>\n      <td></td>\n    </tr>\n    <tr>\n      <th>1</th>\n      <td>id=3&amp;nombre=Vino+Rioja&amp;precio=100&amp;cantidad=55&amp;...</td>\n    </tr>\n    <tr>\n      <th>2</th>\n      <td>id=3&amp;nombre=Vino+Rioja&amp;precio=100&amp;cantidad=55&amp;...</td>\n    </tr>\n    <tr>\n      <th>3</th>\n      <td>modo=entrar&amp;login=choong&amp;pwd=d1se3ci%F3n&amp;remem...</td>\n    </tr>\n    <tr>\n      <th>4</th>\n      <td>modo=entrar&amp;login=choong&amp;pwd=d1se3ci%F3n&amp;remem...</td>\n    </tr>\n    <tr>\n      <th>...</th>\n      <td>...</td>\n    </tr>\n    <tr>\n      <th>35994</th>\n      <td></td>\n    </tr>\n    <tr>\n      <th>35995</th>\n      <td></td>\n    </tr>\n    <tr>\n      <th>35996</th>\n      <td></td>\n    </tr>\n    <tr>\n      <th>35997</th>\n      <td></td>\n    </tr>\n    <tr>\n      <th>35998</th>\n      <td></td>\n    </tr>\n  </tbody>\n</table>\n<p>35999 rows × 1 columns</p>\n</div>"
     },
     "metadata": {},
     "execution_count": 14
    }
   ],
   "source": [
    "# df2"
   ]
  },
  {
   "cell_type": "code",
   "execution_count": 15,
   "metadata": {},
   "outputs": [],
   "source": [
    "# df = df.drop(columns=[\"Arg:\"],axis=1)"
   ]
  },
  {
   "cell_type": "code",
   "execution_count": 16,
   "metadata": {},
   "outputs": [],
   "source": [
    "# df3 = pd.concat([df,df2 ],ignore_index=True,axis=1)\n",
    "# df3.columns=cols"
   ]
  },
  {
   "cell_type": "code",
   "execution_count": 24,
   "metadata": {},
   "outputs": [],
   "source": [
    "# df3 = df3.replace(r'^\\s*$', np.nan, regex=True)"
   ]
  },
  {
   "cell_type": "code",
   "execution_count": 26,
   "metadata": {},
   "outputs": [],
   "source": [
    "# df3.to_csv('dataset/req2log2.csv')"
   ]
  },
  {
   "cell_type": "code",
   "execution_count": 29,
   "metadata": {},
   "outputs": [],
   "source": [
    "df3 = pd.read_csv('dataset/req2log2.csv',index_col=0)"
   ]
  },
  {
   "cell_type": "code",
   "execution_count": 30,
   "metadata": {},
   "outputs": [
    {
     "output_type": "execute_result",
     "data": {
      "text/plain": [
       "      Method:                                              Path: HTTP_ver:  \\\n",
       "0         GET            http://localhost:8080/tienda1/index.jsp  HTTP/1.1   \n",
       "1         GET  http://localhost:8080/tienda1/publico/anadir.j...  HTTP/1.1   \n",
       "2        POST   http://localhost:8080/tienda1/publico/anadir.jsp  HTTP/1.1   \n",
       "3         GET  http://localhost:8080/tienda1/publico/autentic...  HTTP/1.1   \n",
       "4        POST  http://localhost:8080/tienda1/publico/autentic...  HTTP/1.1   \n",
       "...       ...                                                ...       ...   \n",
       "35994     GET       http://localhost:8080/tienda1/imagenes/1.gif  HTTP/1.1   \n",
       "35995     GET       http://localhost:8080/tienda1/imagenes/2.gif  HTTP/1.1   \n",
       "35996     GET       http://localhost:8080/tienda1/imagenes/3.gif  HTTP/1.1   \n",
       "35997     GET  http://localhost:8080/tienda1/imagenes/cmenbul...  HTTP/1.1   \n",
       "35998     GET    http://localhost:8080/tienda1/imagenes/logo.gif  HTTP/1.1   \n",
       "\n",
       "       Request:                                        User-Agent:   Pragma:  \\\n",
       "0           NaN  Mozilla/5.0, (compatible;, Konqueror/3.5;, Lin...  no-cache   \n",
       "1           NaN  Mozilla/5.0, (compatible;, Konqueror/3.5;, Lin...  no-cache   \n",
       "2           NaN  Mozilla/5.0, (compatible;, Konqueror/3.5;, Lin...  no-cache   \n",
       "3           NaN  Mozilla/5.0, (compatible;, Konqueror/3.5;, Lin...  no-cache   \n",
       "4           NaN  Mozilla/5.0, (compatible;, Konqueror/3.5;, Lin...  no-cache   \n",
       "...         ...                                                ...       ...   \n",
       "35994       NaN  Mozilla/5.0, (compatible;, Konqueror/3.5;, Lin...  no-cache   \n",
       "35995       NaN  Mozilla/5.0, (compatible;, Konqueror/3.5;, Lin...  no-cache   \n",
       "35996       NaN  Mozilla/5.0, (compatible;, Konqueror/3.5;, Lin...  no-cache   \n",
       "35997       NaN  Mozilla/5.0, (compatible;, Konqueror/3.5;, Lin...  no-cache   \n",
       "35998       NaN  Mozilla/5.0, (compatible;, Konqueror/3.5;, Lin...  no-cache   \n",
       "\n",
       "      Cache-control:                                            Accept:  \\\n",
       "0           no-cache  text/xml,application/xml,application/xhtml+xml...   \n",
       "1           no-cache  text/xml,application/xml,application/xhtml+xml...   \n",
       "2           no-cache  text/xml,application/xml,application/xhtml+xml...   \n",
       "3           no-cache  text/xml,application/xml,application/xhtml+xml...   \n",
       "4           no-cache  text/xml,application/xml,application/xhtml+xml...   \n",
       "...              ...                                                ...   \n",
       "35994       no-cache  text/xml,application/xml,application/xhtml+xml...   \n",
       "35995       no-cache  text/xml,application/xml,application/xhtml+xml...   \n",
       "35996       no-cache  text/xml,application/xml,application/xhtml+xml...   \n",
       "35997       no-cache  text/xml,application/xml,application/xhtml+xml...   \n",
       "35998       no-cache  text/xml,application/xml,application/xhtml+xml...   \n",
       "\n",
       "                          Accept-Encoding:                Accept-Charset:  \\\n",
       "0      x-gzip,, x-deflate,, gzip,, deflate  utf-8,, utf-8;q=0.5,, *;q=0.5   \n",
       "1      x-gzip,, x-deflate,, gzip,, deflate  utf-8,, utf-8;q=0.5,, *;q=0.5   \n",
       "2      x-gzip,, x-deflate,, gzip,, deflate  utf-8,, utf-8;q=0.5,, *;q=0.5   \n",
       "3      x-gzip,, x-deflate,, gzip,, deflate  utf-8,, utf-8;q=0.5,, *;q=0.5   \n",
       "4      x-gzip,, x-deflate,, gzip,, deflate  utf-8,, utf-8;q=0.5,, *;q=0.5   \n",
       "...                                    ...                            ...   \n",
       "35994  x-gzip,, x-deflate,, gzip,, deflate  utf-8,, utf-8;q=0.5,, *;q=0.5   \n",
       "35995  x-gzip,, x-deflate,, gzip,, deflate  utf-8,, utf-8;q=0.5,, *;q=0.5   \n",
       "35996  x-gzip,, x-deflate,, gzip,, deflate  utf-8,, utf-8;q=0.5,, *;q=0.5   \n",
       "35997  x-gzip,, x-deflate,, gzip,, deflate  utf-8,, utf-8;q=0.5,, *;q=0.5   \n",
       "35998  x-gzip,, x-deflate,, gzip,, deflate  utf-8,, utf-8;q=0.5,, *;q=0.5   \n",
       "\n",
       "      Accept-Language:           Host:  \\\n",
       "0                   en  localhost:8080   \n",
       "1                   en  localhost:8080   \n",
       "2                   en  localhost:8080   \n",
       "3                   en  localhost:8080   \n",
       "4                   en  localhost:8080   \n",
       "...                ...             ...   \n",
       "35994               en  localhost:8080   \n",
       "35995               en  localhost:8080   \n",
       "35996               en  localhost:8080   \n",
       "35997               en  localhost:8080   \n",
       "35998               en  localhost:8080   \n",
       "\n",
       "                                           Cookie: Connection:  \\\n",
       "0      JSESSIONID=1F767F17239C9B670A39E9B10C3825F4       close   \n",
       "1      JSESSIONID=81761ACA043B0E6014CA42A4BCD06AB5       close   \n",
       "2      JSESSIONID=933185092E0B668B90676E0A2B0767AF       close   \n",
       "3      JSESSIONID=8FA18BA82C5336D03D3A8AFA3E68CBB0       close   \n",
       "4      JSESSIONID=7104E6C68A6BCF1423DAE990CE49FEE2       close   \n",
       "...                                            ...         ...   \n",
       "35994  JSESSIONID=1822709F57BDDFA1ADA9D0BAAED0D4B3       close   \n",
       "35995  JSESSIONID=6D4D8AF3FC2C291CDBA2E1B39A266617       close   \n",
       "35996  JSESSIONID=3AD01D093A41EE8156B8549E5CB5247A       close   \n",
       "35997  JSESSIONID=DF85B4F0BDAB8579850FB4858032811D       close   \n",
       "35998  JSESSIONID=AC79ED01AD6C72CD0CAFA94171438750       close   \n",
       "\n",
       "                           Content-Type:  Content-Length:  \\\n",
       "0                                    NaN              NaN   \n",
       "1                                    NaN              NaN   \n",
       "2      application/x-www-form-urlencoded             68.0   \n",
       "3                                    NaN              NaN   \n",
       "4      application/x-www-form-urlencoded             63.0   \n",
       "...                                  ...              ...   \n",
       "35994                                NaN              NaN   \n",
       "35995                                NaN              NaN   \n",
       "35996                                NaN              NaN   \n",
       "35997                                NaN              NaN   \n",
       "35998                                NaN              NaN   \n",
       "\n",
       "                                                    Arg:  \n",
       "0                                                    NaN  \n",
       "1      id=3&nombre=Vino+Rioja&precio=100&cantidad=55&...  \n",
       "2      id=3&nombre=Vino+Rioja&precio=100&cantidad=55&...  \n",
       "3      modo=entrar&login=choong&pwd=d1se3ci%F3n&remem...  \n",
       "4      modo=entrar&login=choong&pwd=d1se3ci%F3n&remem...  \n",
       "...                                                  ...  \n",
       "35994                                                NaN  \n",
       "35995                                                NaN  \n",
       "35996                                                NaN  \n",
       "35997                                                NaN  \n",
       "35998                                                NaN  \n",
       "\n",
       "[35999 rows x 17 columns]"
      ],
      "text/html": "<div>\n<style scoped>\n    .dataframe tbody tr th:only-of-type {\n        vertical-align: middle;\n    }\n\n    .dataframe tbody tr th {\n        vertical-align: top;\n    }\n\n    .dataframe thead th {\n        text-align: right;\n    }\n</style>\n<table border=\"1\" class=\"dataframe\">\n  <thead>\n    <tr style=\"text-align: right;\">\n      <th></th>\n      <th>Method:</th>\n      <th>Path:</th>\n      <th>HTTP_ver:</th>\n      <th>Request:</th>\n      <th>User-Agent:</th>\n      <th>Pragma:</th>\n      <th>Cache-control:</th>\n      <th>Accept:</th>\n      <th>Accept-Encoding:</th>\n      <th>Accept-Charset:</th>\n      <th>Accept-Language:</th>\n      <th>Host:</th>\n      <th>Cookie:</th>\n      <th>Connection:</th>\n      <th>Content-Type:</th>\n      <th>Content-Length:</th>\n      <th>Arg:</th>\n    </tr>\n  </thead>\n  <tbody>\n    <tr>\n      <th>0</th>\n      <td>GET</td>\n      <td>http://localhost:8080/tienda1/index.jsp</td>\n      <td>HTTP/1.1</td>\n      <td>NaN</td>\n      <td>Mozilla/5.0, (compatible;, Konqueror/3.5;, Lin...</td>\n      <td>no-cache</td>\n      <td>no-cache</td>\n      <td>text/xml,application/xml,application/xhtml+xml...</td>\n      <td>x-gzip,, x-deflate,, gzip,, deflate</td>\n      <td>utf-8,, utf-8;q=0.5,, *;q=0.5</td>\n      <td>en</td>\n      <td>localhost:8080</td>\n      <td>JSESSIONID=1F767F17239C9B670A39E9B10C3825F4</td>\n      <td>close</td>\n      <td>NaN</td>\n      <td>NaN</td>\n      <td>NaN</td>\n    </tr>\n    <tr>\n      <th>1</th>\n      <td>GET</td>\n      <td>http://localhost:8080/tienda1/publico/anadir.j...</td>\n      <td>HTTP/1.1</td>\n      <td>NaN</td>\n      <td>Mozilla/5.0, (compatible;, Konqueror/3.5;, Lin...</td>\n      <td>no-cache</td>\n      <td>no-cache</td>\n      <td>text/xml,application/xml,application/xhtml+xml...</td>\n      <td>x-gzip,, x-deflate,, gzip,, deflate</td>\n      <td>utf-8,, utf-8;q=0.5,, *;q=0.5</td>\n      <td>en</td>\n      <td>localhost:8080</td>\n      <td>JSESSIONID=81761ACA043B0E6014CA42A4BCD06AB5</td>\n      <td>close</td>\n      <td>NaN</td>\n      <td>NaN</td>\n      <td>id=3&amp;nombre=Vino+Rioja&amp;precio=100&amp;cantidad=55&amp;...</td>\n    </tr>\n    <tr>\n      <th>2</th>\n      <td>POST</td>\n      <td>http://localhost:8080/tienda1/publico/anadir.jsp</td>\n      <td>HTTP/1.1</td>\n      <td>NaN</td>\n      <td>Mozilla/5.0, (compatible;, Konqueror/3.5;, Lin...</td>\n      <td>no-cache</td>\n      <td>no-cache</td>\n      <td>text/xml,application/xml,application/xhtml+xml...</td>\n      <td>x-gzip,, x-deflate,, gzip,, deflate</td>\n      <td>utf-8,, utf-8;q=0.5,, *;q=0.5</td>\n      <td>en</td>\n      <td>localhost:8080</td>\n      <td>JSESSIONID=933185092E0B668B90676E0A2B0767AF</td>\n      <td>close</td>\n      <td>application/x-www-form-urlencoded</td>\n      <td>68.0</td>\n      <td>id=3&amp;nombre=Vino+Rioja&amp;precio=100&amp;cantidad=55&amp;...</td>\n    </tr>\n    <tr>\n      <th>3</th>\n      <td>GET</td>\n      <td>http://localhost:8080/tienda1/publico/autentic...</td>\n      <td>HTTP/1.1</td>\n      <td>NaN</td>\n      <td>Mozilla/5.0, (compatible;, Konqueror/3.5;, Lin...</td>\n      <td>no-cache</td>\n      <td>no-cache</td>\n      <td>text/xml,application/xml,application/xhtml+xml...</td>\n      <td>x-gzip,, x-deflate,, gzip,, deflate</td>\n      <td>utf-8,, utf-8;q=0.5,, *;q=0.5</td>\n      <td>en</td>\n      <td>localhost:8080</td>\n      <td>JSESSIONID=8FA18BA82C5336D03D3A8AFA3E68CBB0</td>\n      <td>close</td>\n      <td>NaN</td>\n      <td>NaN</td>\n      <td>modo=entrar&amp;login=choong&amp;pwd=d1se3ci%F3n&amp;remem...</td>\n    </tr>\n    <tr>\n      <th>4</th>\n      <td>POST</td>\n      <td>http://localhost:8080/tienda1/publico/autentic...</td>\n      <td>HTTP/1.1</td>\n      <td>NaN</td>\n      <td>Mozilla/5.0, (compatible;, Konqueror/3.5;, Lin...</td>\n      <td>no-cache</td>\n      <td>no-cache</td>\n      <td>text/xml,application/xml,application/xhtml+xml...</td>\n      <td>x-gzip,, x-deflate,, gzip,, deflate</td>\n      <td>utf-8,, utf-8;q=0.5,, *;q=0.5</td>\n      <td>en</td>\n      <td>localhost:8080</td>\n      <td>JSESSIONID=7104E6C68A6BCF1423DAE990CE49FEE2</td>\n      <td>close</td>\n      <td>application/x-www-form-urlencoded</td>\n      <td>63.0</td>\n      <td>modo=entrar&amp;login=choong&amp;pwd=d1se3ci%F3n&amp;remem...</td>\n    </tr>\n    <tr>\n      <th>...</th>\n      <td>...</td>\n      <td>...</td>\n      <td>...</td>\n      <td>...</td>\n      <td>...</td>\n      <td>...</td>\n      <td>...</td>\n      <td>...</td>\n      <td>...</td>\n      <td>...</td>\n      <td>...</td>\n      <td>...</td>\n      <td>...</td>\n      <td>...</td>\n      <td>...</td>\n      <td>...</td>\n      <td>...</td>\n    </tr>\n    <tr>\n      <th>35994</th>\n      <td>GET</td>\n      <td>http://localhost:8080/tienda1/imagenes/1.gif</td>\n      <td>HTTP/1.1</td>\n      <td>NaN</td>\n      <td>Mozilla/5.0, (compatible;, Konqueror/3.5;, Lin...</td>\n      <td>no-cache</td>\n      <td>no-cache</td>\n      <td>text/xml,application/xml,application/xhtml+xml...</td>\n      <td>x-gzip,, x-deflate,, gzip,, deflate</td>\n      <td>utf-8,, utf-8;q=0.5,, *;q=0.5</td>\n      <td>en</td>\n      <td>localhost:8080</td>\n      <td>JSESSIONID=1822709F57BDDFA1ADA9D0BAAED0D4B3</td>\n      <td>close</td>\n      <td>NaN</td>\n      <td>NaN</td>\n      <td>NaN</td>\n    </tr>\n    <tr>\n      <th>35995</th>\n      <td>GET</td>\n      <td>http://localhost:8080/tienda1/imagenes/2.gif</td>\n      <td>HTTP/1.1</td>\n      <td>NaN</td>\n      <td>Mozilla/5.0, (compatible;, Konqueror/3.5;, Lin...</td>\n      <td>no-cache</td>\n      <td>no-cache</td>\n      <td>text/xml,application/xml,application/xhtml+xml...</td>\n      <td>x-gzip,, x-deflate,, gzip,, deflate</td>\n      <td>utf-8,, utf-8;q=0.5,, *;q=0.5</td>\n      <td>en</td>\n      <td>localhost:8080</td>\n      <td>JSESSIONID=6D4D8AF3FC2C291CDBA2E1B39A266617</td>\n      <td>close</td>\n      <td>NaN</td>\n      <td>NaN</td>\n      <td>NaN</td>\n    </tr>\n    <tr>\n      <th>35996</th>\n      <td>GET</td>\n      <td>http://localhost:8080/tienda1/imagenes/3.gif</td>\n      <td>HTTP/1.1</td>\n      <td>NaN</td>\n      <td>Mozilla/5.0, (compatible;, Konqueror/3.5;, Lin...</td>\n      <td>no-cache</td>\n      <td>no-cache</td>\n      <td>text/xml,application/xml,application/xhtml+xml...</td>\n      <td>x-gzip,, x-deflate,, gzip,, deflate</td>\n      <td>utf-8,, utf-8;q=0.5,, *;q=0.5</td>\n      <td>en</td>\n      <td>localhost:8080</td>\n      <td>JSESSIONID=3AD01D093A41EE8156B8549E5CB5247A</td>\n      <td>close</td>\n      <td>NaN</td>\n      <td>NaN</td>\n      <td>NaN</td>\n    </tr>\n    <tr>\n      <th>35997</th>\n      <td>GET</td>\n      <td>http://localhost:8080/tienda1/imagenes/cmenbul...</td>\n      <td>HTTP/1.1</td>\n      <td>NaN</td>\n      <td>Mozilla/5.0, (compatible;, Konqueror/3.5;, Lin...</td>\n      <td>no-cache</td>\n      <td>no-cache</td>\n      <td>text/xml,application/xml,application/xhtml+xml...</td>\n      <td>x-gzip,, x-deflate,, gzip,, deflate</td>\n      <td>utf-8,, utf-8;q=0.5,, *;q=0.5</td>\n      <td>en</td>\n      <td>localhost:8080</td>\n      <td>JSESSIONID=DF85B4F0BDAB8579850FB4858032811D</td>\n      <td>close</td>\n      <td>NaN</td>\n      <td>NaN</td>\n      <td>NaN</td>\n    </tr>\n    <tr>\n      <th>35998</th>\n      <td>GET</td>\n      <td>http://localhost:8080/tienda1/imagenes/logo.gif</td>\n      <td>HTTP/1.1</td>\n      <td>NaN</td>\n      <td>Mozilla/5.0, (compatible;, Konqueror/3.5;, Lin...</td>\n      <td>no-cache</td>\n      <td>no-cache</td>\n      <td>text/xml,application/xml,application/xhtml+xml...</td>\n      <td>x-gzip,, x-deflate,, gzip,, deflate</td>\n      <td>utf-8,, utf-8;q=0.5,, *;q=0.5</td>\n      <td>en</td>\n      <td>localhost:8080</td>\n      <td>JSESSIONID=AC79ED01AD6C72CD0CAFA94171438750</td>\n      <td>close</td>\n      <td>NaN</td>\n      <td>NaN</td>\n      <td>NaN</td>\n    </tr>\n  </tbody>\n</table>\n<p>35999 rows × 17 columns</p>\n</div>"
     },
     "metadata": {},
     "execution_count": 30
    }
   ],
   "source": [
    "df3"
   ]
  },
  {
   "cell_type": "code",
   "execution_count": 37,
   "metadata": {
    "tags": []
   },
   "outputs": [],
   "source": [
    "#######################################     Number of Argument      #############################\n",
    "\n",
    "num_arg= np.zeros(df3.shape[0])\n",
    "\n",
    "for i,d in enumerate(df3[\"Arg:\"]):\n",
    "    num=0\n",
    "    # print(d)\n",
    "    try:\n",
    "        if math.isnan(d):\n",
    "            num=0\n",
    "    except:\n",
    "        num = d.count('=')\n",
    "    num_arg[i]=num\n",
    "    # print(num)\n",
    "    # if i ==10: break"
   ]
  },
  {
   "cell_type": "code",
   "execution_count": 47,
   "metadata": {},
   "outputs": [],
   "source": [
    "###################################     Path of Length      ###################################\n",
    "\n",
    "path_len = np.zeros(df3.shape[0])\n",
    "\n",
    "for i, d in enumerate(df3[\"Path:\"]):\n",
    "    l = 0\n",
    "    l = len(d)\n",
    "    # print(l)\n",
    "    # break\n",
    "    path_len[i]=l"
   ]
  },
  {
   "cell_type": "code",
   "execution_count": 51,
   "metadata": {},
   "outputs": [],
   "source": [
    "################################        Special Char Number     #############################\n",
    "import re\n",
    "spchar_num = np.zeros((df3.shape[0]))\n",
    "for i,d in enumerate(df3[\"Path:\"]):\n",
    "    match = re.findall(\"[^a-zA-Z0-9_]\",d)\n",
    "    # print(len(match))\n",
    "    # break\n",
    "    spchar_num[i]=len(match)\n"
   ]
  },
  {
   "cell_type": "code",
   "execution_count": 59,
   "metadata": {},
   "outputs": [
    {
     "output_type": "execute_result",
     "data": {
      "text/plain": [
       "array([[ 56., 134.,  66., ...,  61.,  67.,  64.],\n",
       "       [  3.,  70.,  70., ...,   3.,   3.,   3.],\n",
       "       [  0.,   5.,   5., ...,   0.,   0.,   0.],\n",
       "       [ 39., 117.,  48., ...,  44.,  50.,  47.],\n",
       "       [  7.,  22.,   8., ...,   8.,   8.,   8.]])"
      ]
     },
     "metadata": {},
     "execution_count": 59
    }
   ],
   "source": [
    "np.array([req__len.reshape(-1,),arg__len.reshape(-1,),num_arg.reshape(-1,),path_len.reshape(-1,),spchar_num.reshape(-1,)])"
   ]
  },
  {
   "cell_type": "code",
   "execution_count": null,
   "metadata": {},
   "outputs": [],
   "source": []
  }
 ]
}