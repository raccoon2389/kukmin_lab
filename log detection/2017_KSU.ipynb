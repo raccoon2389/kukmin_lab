{
 "metadata": {
  "language_info": {
   "codemirror_mode": {
    "name": "ipython",
    "version": 3
   },
   "file_extension": ".py",
   "mimetype": "text/x-python",
   "name": "python",
   "nbconvert_exporter": "python",
   "pygments_lexer": "ipython3",
   "version": "3.7.9-final"
  },
  "orig_nbformat": 2,
  "kernelspec": {
   "name": "python3",
   "display_name": "Python 3.7.9 64-bit ('torch': conda)",
   "metadata": {
    "interpreter": {
     "hash": "193e62dfd21ce8f4cfda5009e359ec1d14402c28d88fcde8ae35126ab3d7c6db"
    }
   }
  }
 },
 "nbformat": 4,
 "nbformat_minor": 2,
 "cells": [
  {
   "cell_type": "code",
   "execution_count": 53,
   "metadata": {},
   "outputs": [],
   "source": [
    "import pandas as pd\n",
    "import numpy as np\n",
    "import urllib.parse as parse"
   ]
  },
  {
   "cell_type": "code",
   "execution_count": 54,
   "metadata": {},
   "outputs": [],
   "source": [
    "FNAME = 'req2logANOMAL'"
   ]
  },
  {
   "cell_type": "code",
   "execution_count": 55,
   "metadata": {},
   "outputs": [],
   "source": [
    "df = pd.read_csv(f'dataset/{FNAME}.csv',index_col=0)\n",
    "cols = df.columns\n",
    "df = df.drop(index=0,axis=0)\n",
    "df = df.reset_index(drop=True)"
   ]
  },
  {
   "cell_type": "code",
   "execution_count": 56,
   "metadata": {},
   "outputs": [],
   "source": [
    "req_len = df.loc[:,\"Method:\":\"HTTP_ver:\"]"
   ]
  },
  {
   "cell_type": "code",
   "execution_count": 57,
   "metadata": {},
   "outputs": [
    {
     "output_type": "execute_result",
     "data": {
      "text/plain": [
       "      Method:                                              Path: HTTP_ver:\n",
       "0         GET  http://localhost:8080/tienda1/publico/anadir.j...  HTTP/1.1\n",
       "1        POST   http://localhost:8080/tienda1/publico/anadir.jsp  HTTP/1.1\n",
       "2         GET  http://localhost:8080/tienda1/publico/anadir.j...  HTTP/1.1\n",
       "3        POST   http://localhost:8080/tienda1/publico/anadir.jsp  HTTP/1.1\n",
       "4         GET           http://localhost:8080/asf-logo-wide.gif~  HTTP/1.1\n",
       "...       ...                                                ...       ...\n",
       "24662    POST  http://localhost:8080/tienda1/miembros/editar.jsp  HTTP/1.1\n",
       "24663     GET  http://localhost:8080/tienda1/miembros/editar....  HTTP/1.1\n",
       "24664    POST  http://localhost:8080/tienda1/miembros/editar.jsp  HTTP/1.1\n",
       "24665     GET  http://localhost:8080/tienda1/miembros/editar....  HTTP/1.1\n",
       "24666     GET      http://localhost:8080/tienda1/imagenes/3.gif/  HTTP/1.1\n",
       "\n",
       "[24667 rows x 3 columns]"
      ],
      "text/html": "<div>\n<style scoped>\n    .dataframe tbody tr th:only-of-type {\n        vertical-align: middle;\n    }\n\n    .dataframe tbody tr th {\n        vertical-align: top;\n    }\n\n    .dataframe thead th {\n        text-align: right;\n    }\n</style>\n<table border=\"1\" class=\"dataframe\">\n  <thead>\n    <tr style=\"text-align: right;\">\n      <th></th>\n      <th>Method:</th>\n      <th>Path:</th>\n      <th>HTTP_ver:</th>\n    </tr>\n  </thead>\n  <tbody>\n    <tr>\n      <th>0</th>\n      <td>GET</td>\n      <td>http://localhost:8080/tienda1/publico/anadir.j...</td>\n      <td>HTTP/1.1</td>\n    </tr>\n    <tr>\n      <th>1</th>\n      <td>POST</td>\n      <td>http://localhost:8080/tienda1/publico/anadir.jsp</td>\n      <td>HTTP/1.1</td>\n    </tr>\n    <tr>\n      <th>2</th>\n      <td>GET</td>\n      <td>http://localhost:8080/tienda1/publico/anadir.j...</td>\n      <td>HTTP/1.1</td>\n    </tr>\n    <tr>\n      <th>3</th>\n      <td>POST</td>\n      <td>http://localhost:8080/tienda1/publico/anadir.jsp</td>\n      <td>HTTP/1.1</td>\n    </tr>\n    <tr>\n      <th>4</th>\n      <td>GET</td>\n      <td>http://localhost:8080/asf-logo-wide.gif~</td>\n      <td>HTTP/1.1</td>\n    </tr>\n    <tr>\n      <th>...</th>\n      <td>...</td>\n      <td>...</td>\n      <td>...</td>\n    </tr>\n    <tr>\n      <th>24662</th>\n      <td>POST</td>\n      <td>http://localhost:8080/tienda1/miembros/editar.jsp</td>\n      <td>HTTP/1.1</td>\n    </tr>\n    <tr>\n      <th>24663</th>\n      <td>GET</td>\n      <td>http://localhost:8080/tienda1/miembros/editar....</td>\n      <td>HTTP/1.1</td>\n    </tr>\n    <tr>\n      <th>24664</th>\n      <td>POST</td>\n      <td>http://localhost:8080/tienda1/miembros/editar.jsp</td>\n      <td>HTTP/1.1</td>\n    </tr>\n    <tr>\n      <th>24665</th>\n      <td>GET</td>\n      <td>http://localhost:8080/tienda1/miembros/editar....</td>\n      <td>HTTP/1.1</td>\n    </tr>\n    <tr>\n      <th>24666</th>\n      <td>GET</td>\n      <td>http://localhost:8080/tienda1/imagenes/3.gif/</td>\n      <td>HTTP/1.1</td>\n    </tr>\n  </tbody>\n</table>\n<p>24667 rows × 3 columns</p>\n</div>"
     },
     "metadata": {},
     "execution_count": 57
    }
   ],
   "source": [
    "req_len"
   ]
  },
  {
   "cell_type": "code",
   "execution_count": 58,
   "metadata": {},
   "outputs": [
    {
     "output_type": "execute_result",
     "data": {
      "text/plain": [
       "(24667, 1)"
      ]
     },
     "metadata": {},
     "execution_count": 58
    }
   ],
   "source": [
    "req__len = np.zeros((req_len.shape[0],1))\n",
    "req__len.shape"
   ]
  },
  {
   "cell_type": "code",
   "execution_count": 59,
   "metadata": {
    "tags": []
   },
   "outputs": [
    {
     "output_type": "display_data",
     "data": {
      "text/plain": "0it [00:00, ?it/s]",
      "application/vnd.jupyter.widget-view+json": {
       "version_major": 2,
       "version_minor": 0,
       "model_id": "7a1e8a52206449da88666314a943f224"
      }
     },
     "metadata": {}
    }
   ],
   "source": [
    "from tqdm.notebook import tqdm\n",
    "for i,d in tqdm(enumerate(req_len.itertuples(index=False))):\n",
    "    leng =0\n",
    "    for o in d:\n",
    "        leng +=len(repr(o))\n",
    "    req__len[i]=leng"
   ]
  },
  {
   "cell_type": "code",
   "execution_count": 60,
   "metadata": {},
   "outputs": [
    {
     "output_type": "stream",
     "name": "stdout",
     "text": [
      "[[212.]\n [ 66.]\n [143.]\n ...\n [ 67.]\n [ 70.]\n [ 62.]]\n"
     ]
    }
   ],
   "source": [
    "print(req__len)"
   ]
  },
  {
   "cell_type": "code",
   "execution_count": 61,
   "metadata": {},
   "outputs": [],
   "source": [
    "arg_len = df.loc[:,[\"Path:\",\"Arg:\"]]"
   ]
  },
  {
   "cell_type": "code",
   "execution_count": 62,
   "metadata": {},
   "outputs": [
    {
     "output_type": "execute_result",
     "data": {
      "text/plain": [
       "                                                   Path:  \\\n",
       "0      http://localhost:8080/tienda1/publico/anadir.j...   \n",
       "1       http://localhost:8080/tienda1/publico/anadir.jsp   \n",
       "2      http://localhost:8080/tienda1/publico/anadir.j...   \n",
       "3       http://localhost:8080/tienda1/publico/anadir.jsp   \n",
       "4               http://localhost:8080/asf-logo-wide.gif~   \n",
       "...                                                  ...   \n",
       "24662  http://localhost:8080/tienda1/miembros/editar.jsp   \n",
       "24663  http://localhost:8080/tienda1/miembros/editar....   \n",
       "24664  http://localhost:8080/tienda1/miembros/editar.jsp   \n",
       "24665  http://localhost:8080/tienda1/miembros/editar....   \n",
       "24666      http://localhost:8080/tienda1/imagenes/3.gif/   \n",
       "\n",
       "                                                    Arg:  \n",
       "0                                                    NaN  \n",
       "1      id=2&nombre=Jam%F3n+Ib%E9rico&precio=85&cantid...  \n",
       "2                                                    NaN  \n",
       "3      id=2%2F&nombre=Jam%F3n+Ib%E9rico&precio=85&can...  \n",
       "4                                                    NaN  \n",
       "...                                                  ...  \n",
       "24662  modo=registro&login=%2Bmel%2Fhem&password=quEr...  \n",
       "24663                                                NaN  \n",
       "24664  modo=registro&login=beaumont&password=quEratIt...  \n",
       "24665                                                NaN  \n",
       "24666                                                NaN  \n",
       "\n",
       "[24667 rows x 2 columns]"
      ],
      "text/html": "<div>\n<style scoped>\n    .dataframe tbody tr th:only-of-type {\n        vertical-align: middle;\n    }\n\n    .dataframe tbody tr th {\n        vertical-align: top;\n    }\n\n    .dataframe thead th {\n        text-align: right;\n    }\n</style>\n<table border=\"1\" class=\"dataframe\">\n  <thead>\n    <tr style=\"text-align: right;\">\n      <th></th>\n      <th>Path:</th>\n      <th>Arg:</th>\n    </tr>\n  </thead>\n  <tbody>\n    <tr>\n      <th>0</th>\n      <td>http://localhost:8080/tienda1/publico/anadir.j...</td>\n      <td>NaN</td>\n    </tr>\n    <tr>\n      <th>1</th>\n      <td>http://localhost:8080/tienda1/publico/anadir.jsp</td>\n      <td>id=2&amp;nombre=Jam%F3n+Ib%E9rico&amp;precio=85&amp;cantid...</td>\n    </tr>\n    <tr>\n      <th>2</th>\n      <td>http://localhost:8080/tienda1/publico/anadir.j...</td>\n      <td>NaN</td>\n    </tr>\n    <tr>\n      <th>3</th>\n      <td>http://localhost:8080/tienda1/publico/anadir.jsp</td>\n      <td>id=2%2F&amp;nombre=Jam%F3n+Ib%E9rico&amp;precio=85&amp;can...</td>\n    </tr>\n    <tr>\n      <th>4</th>\n      <td>http://localhost:8080/asf-logo-wide.gif~</td>\n      <td>NaN</td>\n    </tr>\n    <tr>\n      <th>...</th>\n      <td>...</td>\n      <td>...</td>\n    </tr>\n    <tr>\n      <th>24662</th>\n      <td>http://localhost:8080/tienda1/miembros/editar.jsp</td>\n      <td>modo=registro&amp;login=%2Bmel%2Fhem&amp;password=quEr...</td>\n    </tr>\n    <tr>\n      <th>24663</th>\n      <td>http://localhost:8080/tienda1/miembros/editar....</td>\n      <td>NaN</td>\n    </tr>\n    <tr>\n      <th>24664</th>\n      <td>http://localhost:8080/tienda1/miembros/editar.jsp</td>\n      <td>modo=registro&amp;login=beaumont&amp;password=quEratIt...</td>\n    </tr>\n    <tr>\n      <th>24665</th>\n      <td>http://localhost:8080/tienda1/miembros/editar....</td>\n      <td>NaN</td>\n    </tr>\n    <tr>\n      <th>24666</th>\n      <td>http://localhost:8080/tienda1/imagenes/3.gif/</td>\n      <td>NaN</td>\n    </tr>\n  </tbody>\n</table>\n<p>24667 rows × 2 columns</p>\n</div>"
     },
     "metadata": {},
     "execution_count": 62
    }
   ],
   "source": [
    "arg_len"
   ]
  },
  {
   "cell_type": "code",
   "execution_count": 63,
   "metadata": {
    "tags": []
   },
   "outputs": [],
   "source": [
    "arg__len = np.zeros((arg_len.shape[0]))\n",
    "import math\n",
    "for i,d in enumerate(arg_len.itertuples(index=False)):\n",
    "    try:\n",
    "        if math.isnan(d[1]):\n",
    "            try:\n",
    "                arg = d[0].split('?')\n",
    "                # print(d)\n",
    "                arg = arg[1]        \n",
    "            except IndexError:\n",
    "                arg = ''\n",
    "    except:\n",
    "        arg=d[1]\n",
    "    # print(arg)\n",
    "    # print(len(repr(arg)))\n",
    "    # break\n",
    "    arg__len[i]= len(repr(arg))"
   ]
  },
  {
   "cell_type": "code",
   "execution_count": 64,
   "metadata": {},
   "outputs": [],
   "source": [
    "arg__len = arg__len-2"
   ]
  },
  {
   "cell_type": "code",
   "execution_count": 65,
   "metadata": {},
   "outputs": [],
   "source": [
    "import math\n",
    "arg_ = []\n",
    "for i,d in enumerate(arg_len.itertuples(index=False)):\n",
    "    try:\n",
    "        if math.isnan(d[1]):\n",
    "            try:\n",
    "                arg = d[0].split('?')\n",
    "                # print(d)\n",
    "                arg = arg[1]        \n",
    "            except IndexError:\n",
    "                arg = ''\n",
    "    except:\n",
    "        arg=d[1]\n",
    "    arg_.append(arg)"
   ]
  },
  {
   "cell_type": "code",
   "execution_count": 66,
   "metadata": {},
   "outputs": [],
   "source": [
    "df2 = pd.DataFrame(arg_,index=None,columns=['Arg:'])"
   ]
  },
  {
   "cell_type": "code",
   "execution_count": 67,
   "metadata": {},
   "outputs": [],
   "source": [
    "# df2"
   ]
  },
  {
   "cell_type": "code",
   "execution_count": 68,
   "metadata": {},
   "outputs": [],
   "source": [
    "df = df.drop(columns=[\"Arg:\"],axis=1)"
   ]
  },
  {
   "cell_type": "code",
   "execution_count": 69,
   "metadata": {},
   "outputs": [],
   "source": [
    "df3 = pd.concat([df,df2 ],ignore_index=True,axis=1)\n",
    "df3.columns=cols"
   ]
  },
  {
   "cell_type": "code",
   "execution_count": 70,
   "metadata": {},
   "outputs": [],
   "source": [
    "df3 = df3.replace(r'^\\s*$', np.nan, regex=True)"
   ]
  },
  {
   "cell_type": "code",
   "execution_count": 71,
   "metadata": {},
   "outputs": [],
   "source": [
    "df3.to_csv(f'dataset/{FNAME}2.csv')"
   ]
  },
  {
   "cell_type": "code",
   "execution_count": 72,
   "metadata": {},
   "outputs": [],
   "source": [
    "df3 = pd.read_csv(f'dataset/{FNAME}2.csv',index_col=0)"
   ]
  },
  {
   "cell_type": "code",
   "execution_count": 73,
   "metadata": {},
   "outputs": [
    {
     "output_type": "execute_result",
     "data": {
      "text/plain": [
       "      Method:                                              Path: HTTP_ver:  \\\n",
       "0         GET  http://localhost:8080/tienda1/publico/anadir.j...  HTTP/1.1   \n",
       "1        POST   http://localhost:8080/tienda1/publico/anadir.jsp  HTTP/1.1   \n",
       "2         GET  http://localhost:8080/tienda1/publico/anadir.j...  HTTP/1.1   \n",
       "3        POST   http://localhost:8080/tienda1/publico/anadir.jsp  HTTP/1.1   \n",
       "4         GET           http://localhost:8080/asf-logo-wide.gif~  HTTP/1.1   \n",
       "...       ...                                                ...       ...   \n",
       "24662    POST  http://localhost:8080/tienda1/miembros/editar.jsp  HTTP/1.1   \n",
       "24663     GET  http://localhost:8080/tienda1/miembros/editar....  HTTP/1.1   \n",
       "24664    POST  http://localhost:8080/tienda1/miembros/editar.jsp  HTTP/1.1   \n",
       "24665     GET  http://localhost:8080/tienda1/miembros/editar....  HTTP/1.1   \n",
       "24666     GET      http://localhost:8080/tienda1/imagenes/3.gif/  HTTP/1.1   \n",
       "\n",
       "       Request:                                        User-Agent:   Pragma:  \\\n",
       "0           NaN  Mozilla/5.0, (compatible;, Konqueror/3.5;, Lin...  no-cache   \n",
       "1           NaN  Mozilla/5.0, (compatible;, Konqueror/3.5;, Lin...  no-cache   \n",
       "2           NaN  Mozilla/5.0, (compatible;, Konqueror/3.5;, Lin...  no-cache   \n",
       "3           NaN  Mozilla/5.0, (compatible;, Konqueror/3.5;, Lin...  no-cache   \n",
       "4           NaN  Mozilla/5.0, (compatible;, Konqueror/3.5;, Lin...  no-cache   \n",
       "...         ...                                                ...       ...   \n",
       "24662       NaN  Mozilla/5.0, (compatible;, Konqueror/3.5;, Lin...  no-cache   \n",
       "24663       NaN  Mozilla/5.0, (compatible;, Konqueror/3.5;, Lin...  no-cache   \n",
       "24664       NaN  Mozilla/5.0, (compatible;, Konqueror/3.5;, Lin...  no-cache   \n",
       "24665       NaN  Mozilla/5.0, (compatible;, Konqueror/3.5;, Lin...  no-cache   \n",
       "24666       NaN  Mozilla/5.0, (compatible;, Konqueror/3.5;, Lin...  no-cache   \n",
       "\n",
       "      Cache-control:                                            Accept:  \\\n",
       "0           no-cache  text/xml,application/xml,application/xhtml+xml...   \n",
       "1           no-cache  text/xml,application/xml,application/xhtml+xml...   \n",
       "2           no-cache  text/xml,application/xml,application/xhtml+xml...   \n",
       "3           no-cache  text/xml,application/xml,application/xhtml+xml...   \n",
       "4           no-cache  text/xml,application/xml,application/xhtml+xml...   \n",
       "...              ...                                                ...   \n",
       "24662       no-cache  text/xml,application/xml,application/xhtml+xml...   \n",
       "24663       no-cache  text/xml,application/xml,application/xhtml+xml...   \n",
       "24664       no-cache  text/xml,application/xml,application/xhtml+xml...   \n",
       "24665       no-cache  text/xml,application/xml,application/xhtml+xml...   \n",
       "24666       no-cache  text/xml,application/xml,application/xhtml+xml...   \n",
       "\n",
       "                          Accept-Encoding:                Accept-Charset:  \\\n",
       "0      x-gzip,, x-deflate,, gzip,, deflate  utf-8,, utf-8;q=0.5,, *;q=0.5   \n",
       "1      x-gzip,, x-deflate,, gzip,, deflate  utf-8,, utf-8;q=0.5,, *;q=0.5   \n",
       "2      x-gzip,, x-deflate,, gzip,, deflate  utf-8,, utf-8;q=0.5,, *;q=0.5   \n",
       "3      x-gzip,, x-deflate,, gzip,, deflate  utf-8,, utf-8;q=0.5,, *;q=0.5   \n",
       "4      x-gzip,, x-deflate,, gzip,, deflate  utf-8,, utf-8;q=0.5,, *;q=0.5   \n",
       "...                                    ...                            ...   \n",
       "24662  x-gzip,, x-deflate,, gzip,, deflate  utf-8,, utf-8;q=0.5,, *;q=0.5   \n",
       "24663  x-gzip,, x-deflate,, gzip,, deflate  utf-8,, utf-8;q=0.5,, *;q=0.5   \n",
       "24664  x-gzip,, x-deflate,, gzip,, deflate  utf-8,, utf-8;q=0.5,, *;q=0.5   \n",
       "24665  x-gzip,, x-deflate,, gzip,, deflate  utf-8,, utf-8;q=0.5,, *;q=0.5   \n",
       "24666  x-gzip,, x-deflate,, gzip,, deflate  utf-8,, utf-8;q=0.5,, *;q=0.5   \n",
       "\n",
       "      Accept-Language:           Host:  \\\n",
       "0                   en  localhost:8080   \n",
       "1                   en  localhost:8080   \n",
       "2                   en  localhost:8080   \n",
       "3                   en  localhost:8080   \n",
       "4                   en  localhost:8080   \n",
       "...                ...             ...   \n",
       "24662               en  localhost:8080   \n",
       "24663               en  localhost:8080   \n",
       "24664               en  localhost:8080   \n",
       "24665               en  localhost:8080   \n",
       "24666               en  localhost:8080   \n",
       "\n",
       "                                           Cookie: Connection:  \\\n",
       "0      JSESSIONID=B92A8B48B9008CD29F622A994E0F650D       close   \n",
       "1      JSESSIONID=AE29AEEBDE479D5E1A18B4108C8E3CE0       close   \n",
       "2      JSESSIONID=F563B5262843F12ECAE41815ABDEEA54       close   \n",
       "3      JSESSIONID=3B654D6DF7F1466EE80D7F756B00E5D1       close   \n",
       "4      JSESSIONID=51A7470173188BBB993947F2283059E4       close   \n",
       "...                                            ...         ...   \n",
       "24662  JSESSIONID=FF1E81BBBDE5DB7E90A3EAF067A22F89       close   \n",
       "24663  JSESSIONID=62216ADBBD9B91E17CA9AFEDCCC36275       close   \n",
       "24664  JSESSIONID=2317F5C0B1B7FAD18EB425E98DB102A3       close   \n",
       "24665  JSESSIONID=7F0BA54A88B849EF752006D388E15CDD       close   \n",
       "24666  JSESSIONID=FB018FFB06011CFABD60D8E8AD58CA21       close   \n",
       "\n",
       "                           Content-Type:  Content-Length:  \\\n",
       "0                                    NaN              NaN   \n",
       "1      application/x-www-form-urlencoded            146.0   \n",
       "2                                    NaN              NaN   \n",
       "3      application/x-www-form-urlencoded             77.0   \n",
       "4                                    NaN              NaN   \n",
       "...                                  ...              ...   \n",
       "24662  application/x-www-form-urlencoded            258.0   \n",
       "24663                                NaN              NaN   \n",
       "24664  application/x-www-form-urlencoded            255.0   \n",
       "24665                                NaN              NaN   \n",
       "24666                                NaN              NaN   \n",
       "\n",
       "                                                    Arg:  \n",
       "0      id=2&nombre=Jam%F3n+Ib%E9rico&precio=85&cantid...  \n",
       "1      id=2&nombre=Jam%F3n+Ib%E9rico&precio=85&cantid...  \n",
       "2      id=2%2F&nombre=Jam%F3n+Ib%E9rico&precio=85&can...  \n",
       "3      id=2%2F&nombre=Jam%F3n+Ib%E9rico&precio=85&can...  \n",
       "4                                                    NaN  \n",
       "...                                                  ...  \n",
       "24662  modo=registro&login=%2Bmel%2Fhem&password=quEr...  \n",
       "24663  modo=registro&login=beaumont&password=quEratIt...  \n",
       "24664  modo=registro&login=beaumont&password=quEratIt...  \n",
       "24665                                                NaN  \n",
       "24666                                                NaN  \n",
       "\n",
       "[24667 rows x 17 columns]"
      ],
      "text/html": "<div>\n<style scoped>\n    .dataframe tbody tr th:only-of-type {\n        vertical-align: middle;\n    }\n\n    .dataframe tbody tr th {\n        vertical-align: top;\n    }\n\n    .dataframe thead th {\n        text-align: right;\n    }\n</style>\n<table border=\"1\" class=\"dataframe\">\n  <thead>\n    <tr style=\"text-align: right;\">\n      <th></th>\n      <th>Method:</th>\n      <th>Path:</th>\n      <th>HTTP_ver:</th>\n      <th>Request:</th>\n      <th>User-Agent:</th>\n      <th>Pragma:</th>\n      <th>Cache-control:</th>\n      <th>Accept:</th>\n      <th>Accept-Encoding:</th>\n      <th>Accept-Charset:</th>\n      <th>Accept-Language:</th>\n      <th>Host:</th>\n      <th>Cookie:</th>\n      <th>Connection:</th>\n      <th>Content-Type:</th>\n      <th>Content-Length:</th>\n      <th>Arg:</th>\n    </tr>\n  </thead>\n  <tbody>\n    <tr>\n      <th>0</th>\n      <td>GET</td>\n      <td>http://localhost:8080/tienda1/publico/anadir.j...</td>\n      <td>HTTP/1.1</td>\n      <td>NaN</td>\n      <td>Mozilla/5.0, (compatible;, Konqueror/3.5;, Lin...</td>\n      <td>no-cache</td>\n      <td>no-cache</td>\n      <td>text/xml,application/xml,application/xhtml+xml...</td>\n      <td>x-gzip,, x-deflate,, gzip,, deflate</td>\n      <td>utf-8,, utf-8;q=0.5,, *;q=0.5</td>\n      <td>en</td>\n      <td>localhost:8080</td>\n      <td>JSESSIONID=B92A8B48B9008CD29F622A994E0F650D</td>\n      <td>close</td>\n      <td>NaN</td>\n      <td>NaN</td>\n      <td>id=2&amp;nombre=Jam%F3n+Ib%E9rico&amp;precio=85&amp;cantid...</td>\n    </tr>\n    <tr>\n      <th>1</th>\n      <td>POST</td>\n      <td>http://localhost:8080/tienda1/publico/anadir.jsp</td>\n      <td>HTTP/1.1</td>\n      <td>NaN</td>\n      <td>Mozilla/5.0, (compatible;, Konqueror/3.5;, Lin...</td>\n      <td>no-cache</td>\n      <td>no-cache</td>\n      <td>text/xml,application/xml,application/xhtml+xml...</td>\n      <td>x-gzip,, x-deflate,, gzip,, deflate</td>\n      <td>utf-8,, utf-8;q=0.5,, *;q=0.5</td>\n      <td>en</td>\n      <td>localhost:8080</td>\n      <td>JSESSIONID=AE29AEEBDE479D5E1A18B4108C8E3CE0</td>\n      <td>close</td>\n      <td>application/x-www-form-urlencoded</td>\n      <td>146.0</td>\n      <td>id=2&amp;nombre=Jam%F3n+Ib%E9rico&amp;precio=85&amp;cantid...</td>\n    </tr>\n    <tr>\n      <th>2</th>\n      <td>GET</td>\n      <td>http://localhost:8080/tienda1/publico/anadir.j...</td>\n      <td>HTTP/1.1</td>\n      <td>NaN</td>\n      <td>Mozilla/5.0, (compatible;, Konqueror/3.5;, Lin...</td>\n      <td>no-cache</td>\n      <td>no-cache</td>\n      <td>text/xml,application/xml,application/xhtml+xml...</td>\n      <td>x-gzip,, x-deflate,, gzip,, deflate</td>\n      <td>utf-8,, utf-8;q=0.5,, *;q=0.5</td>\n      <td>en</td>\n      <td>localhost:8080</td>\n      <td>JSESSIONID=F563B5262843F12ECAE41815ABDEEA54</td>\n      <td>close</td>\n      <td>NaN</td>\n      <td>NaN</td>\n      <td>id=2%2F&amp;nombre=Jam%F3n+Ib%E9rico&amp;precio=85&amp;can...</td>\n    </tr>\n    <tr>\n      <th>3</th>\n      <td>POST</td>\n      <td>http://localhost:8080/tienda1/publico/anadir.jsp</td>\n      <td>HTTP/1.1</td>\n      <td>NaN</td>\n      <td>Mozilla/5.0, (compatible;, Konqueror/3.5;, Lin...</td>\n      <td>no-cache</td>\n      <td>no-cache</td>\n      <td>text/xml,application/xml,application/xhtml+xml...</td>\n      <td>x-gzip,, x-deflate,, gzip,, deflate</td>\n      <td>utf-8,, utf-8;q=0.5,, *;q=0.5</td>\n      <td>en</td>\n      <td>localhost:8080</td>\n      <td>JSESSIONID=3B654D6DF7F1466EE80D7F756B00E5D1</td>\n      <td>close</td>\n      <td>application/x-www-form-urlencoded</td>\n      <td>77.0</td>\n      <td>id=2%2F&amp;nombre=Jam%F3n+Ib%E9rico&amp;precio=85&amp;can...</td>\n    </tr>\n    <tr>\n      <th>4</th>\n      <td>GET</td>\n      <td>http://localhost:8080/asf-logo-wide.gif~</td>\n      <td>HTTP/1.1</td>\n      <td>NaN</td>\n      <td>Mozilla/5.0, (compatible;, Konqueror/3.5;, Lin...</td>\n      <td>no-cache</td>\n      <td>no-cache</td>\n      <td>text/xml,application/xml,application/xhtml+xml...</td>\n      <td>x-gzip,, x-deflate,, gzip,, deflate</td>\n      <td>utf-8,, utf-8;q=0.5,, *;q=0.5</td>\n      <td>en</td>\n      <td>localhost:8080</td>\n      <td>JSESSIONID=51A7470173188BBB993947F2283059E4</td>\n      <td>close</td>\n      <td>NaN</td>\n      <td>NaN</td>\n      <td>NaN</td>\n    </tr>\n    <tr>\n      <th>...</th>\n      <td>...</td>\n      <td>...</td>\n      <td>...</td>\n      <td>...</td>\n      <td>...</td>\n      <td>...</td>\n      <td>...</td>\n      <td>...</td>\n      <td>...</td>\n      <td>...</td>\n      <td>...</td>\n      <td>...</td>\n      <td>...</td>\n      <td>...</td>\n      <td>...</td>\n      <td>...</td>\n      <td>...</td>\n    </tr>\n    <tr>\n      <th>24662</th>\n      <td>POST</td>\n      <td>http://localhost:8080/tienda1/miembros/editar.jsp</td>\n      <td>HTTP/1.1</td>\n      <td>NaN</td>\n      <td>Mozilla/5.0, (compatible;, Konqueror/3.5;, Lin...</td>\n      <td>no-cache</td>\n      <td>no-cache</td>\n      <td>text/xml,application/xml,application/xhtml+xml...</td>\n      <td>x-gzip,, x-deflate,, gzip,, deflate</td>\n      <td>utf-8,, utf-8;q=0.5,, *;q=0.5</td>\n      <td>en</td>\n      <td>localhost:8080</td>\n      <td>JSESSIONID=FF1E81BBBDE5DB7E90A3EAF067A22F89</td>\n      <td>close</td>\n      <td>application/x-www-form-urlencoded</td>\n      <td>258.0</td>\n      <td>modo=registro&amp;login=%2Bmel%2Fhem&amp;password=quEr...</td>\n    </tr>\n    <tr>\n      <th>24663</th>\n      <td>GET</td>\n      <td>http://localhost:8080/tienda1/miembros/editar....</td>\n      <td>HTTP/1.1</td>\n      <td>NaN</td>\n      <td>Mozilla/5.0, (compatible;, Konqueror/3.5;, Lin...</td>\n      <td>no-cache</td>\n      <td>no-cache</td>\n      <td>text/xml,application/xml,application/xhtml+xml...</td>\n      <td>x-gzip,, x-deflate,, gzip,, deflate</td>\n      <td>utf-8,, utf-8;q=0.5,, *;q=0.5</td>\n      <td>en</td>\n      <td>localhost:8080</td>\n      <td>JSESSIONID=62216ADBBD9B91E17CA9AFEDCCC36275</td>\n      <td>close</td>\n      <td>NaN</td>\n      <td>NaN</td>\n      <td>modo=registro&amp;login=beaumont&amp;password=quEratIt...</td>\n    </tr>\n    <tr>\n      <th>24664</th>\n      <td>POST</td>\n      <td>http://localhost:8080/tienda1/miembros/editar.jsp</td>\n      <td>HTTP/1.1</td>\n      <td>NaN</td>\n      <td>Mozilla/5.0, (compatible;, Konqueror/3.5;, Lin...</td>\n      <td>no-cache</td>\n      <td>no-cache</td>\n      <td>text/xml,application/xml,application/xhtml+xml...</td>\n      <td>x-gzip,, x-deflate,, gzip,, deflate</td>\n      <td>utf-8,, utf-8;q=0.5,, *;q=0.5</td>\n      <td>en</td>\n      <td>localhost:8080</td>\n      <td>JSESSIONID=2317F5C0B1B7FAD18EB425E98DB102A3</td>\n      <td>close</td>\n      <td>application/x-www-form-urlencoded</td>\n      <td>255.0</td>\n      <td>modo=registro&amp;login=beaumont&amp;password=quEratIt...</td>\n    </tr>\n    <tr>\n      <th>24665</th>\n      <td>GET</td>\n      <td>http://localhost:8080/tienda1/miembros/editar....</td>\n      <td>HTTP/1.1</td>\n      <td>NaN</td>\n      <td>Mozilla/5.0, (compatible;, Konqueror/3.5;, Lin...</td>\n      <td>no-cache</td>\n      <td>no-cache</td>\n      <td>text/xml,application/xml,application/xhtml+xml...</td>\n      <td>x-gzip,, x-deflate,, gzip,, deflate</td>\n      <td>utf-8,, utf-8;q=0.5,, *;q=0.5</td>\n      <td>en</td>\n      <td>localhost:8080</td>\n      <td>JSESSIONID=7F0BA54A88B849EF752006D388E15CDD</td>\n      <td>close</td>\n      <td>NaN</td>\n      <td>NaN</td>\n      <td>NaN</td>\n    </tr>\n    <tr>\n      <th>24666</th>\n      <td>GET</td>\n      <td>http://localhost:8080/tienda1/imagenes/3.gif/</td>\n      <td>HTTP/1.1</td>\n      <td>NaN</td>\n      <td>Mozilla/5.0, (compatible;, Konqueror/3.5;, Lin...</td>\n      <td>no-cache</td>\n      <td>no-cache</td>\n      <td>text/xml,application/xml,application/xhtml+xml...</td>\n      <td>x-gzip,, x-deflate,, gzip,, deflate</td>\n      <td>utf-8,, utf-8;q=0.5,, *;q=0.5</td>\n      <td>en</td>\n      <td>localhost:8080</td>\n      <td>JSESSIONID=FB018FFB06011CFABD60D8E8AD58CA21</td>\n      <td>close</td>\n      <td>NaN</td>\n      <td>NaN</td>\n      <td>NaN</td>\n    </tr>\n  </tbody>\n</table>\n<p>24667 rows × 17 columns</p>\n</div>"
     },
     "metadata": {},
     "execution_count": 73
    }
   ],
   "source": [
    "df3"
   ]
  },
  {
   "cell_type": "code",
   "execution_count": 74,
   "metadata": {
    "tags": []
   },
   "outputs": [],
   "source": [
    "#######################################     Number of Argument      #############################\n",
    "\n",
    "num_arg= np.zeros(df3.shape[0])\n",
    "\n",
    "for i,d in enumerate(df3[\"Arg:\"]):\n",
    "    num=0\n",
    "    # print(d)\n",
    "    try:\n",
    "        if math.isnan(d):\n",
    "            num=0\n",
    "    except:\n",
    "        num = d.count('=')\n",
    "    num_arg[i]=num\n",
    "    # print(num)\n",
    "    # if i ==10: break"
   ]
  },
  {
   "cell_type": "code",
   "execution_count": 75,
   "metadata": {},
   "outputs": [],
   "source": [
    "###################################     Path of Length      ###################################\n",
    "\n",
    "path_len = np.zeros(df3.shape[0])\n",
    "\n",
    "for i, d in enumerate(df3[\"Path:\"]):\n",
    "    l = 0\n",
    "    l = len(d)\n",
    "    # print(l)\n",
    "    # break\n",
    "    path_len[i]=l"
   ]
  },
  {
   "cell_type": "code",
   "execution_count": 76,
   "metadata": {},
   "outputs": [],
   "source": [
    "################################        Special Char Number     #############################\n",
    "import re\n",
    "spchar_num = np.zeros((df3.shape[0]))\n",
    "for i,d in enumerate(df3[\"Path:\"]):\n",
    "    match = re.findall(\"[^a-zA-Z0-9_]\",d)\n",
    "    # print(len(match))\n",
    "    # break\n",
    "    spchar_num[i]=len(match)\n"
   ]
  },
  {
   "cell_type": "code",
   "execution_count": 77,
   "metadata": {},
   "outputs": [],
   "source": [
    "ar = np.concatenate([req__len.reshape(-1,1),arg__len.reshape(-1,1),num_arg.reshape(-1,1),path_len.reshape(-1,1),spchar_num.reshape(-1,1)],axis=1)"
   ]
  },
  {
   "cell_type": "code",
   "execution_count": 78,
   "metadata": {},
   "outputs": [],
   "source": [
    "np.save(f'dataset/{FNAME}.npy',ar)"
   ]
  },
  {
   "cell_type": "code",
   "execution_count": 79,
   "metadata": {},
   "outputs": [],
   "source": [
    "pd.DataFrame(ar,columns=[\"req_len\",\"arg_len\",\"num_arg\",\"path_len\",\"spchar_num\"],index=None).to_csv('dataset/Anomal_feature')"
   ]
  }
 ]
}