{
 "metadata": {
  "language_info": {
   "codemirror_mode": {
    "name": "ipython",
    "version": 3
   },
   "file_extension": ".py",
   "mimetype": "text/x-python",
   "name": "python",
   "nbconvert_exporter": "python",
   "pygments_lexer": "ipython3",
   "version": "3.7.9-final"
  },
  "orig_nbformat": 2,
  "kernelspec": {
   "name": "python3",
   "display_name": "Python 3.7.9 64-bit ('torch': conda)",
   "metadata": {
    "interpreter": {
     "hash": "193e62dfd21ce8f4cfda5009e359ec1d14402c28d88fcde8ae35126ab3d7c6db"
    }
   }
  }
 },
 "nbformat": 4,
 "nbformat_minor": 2,
 "cells": [
  {
   "cell_type": "code",
   "execution_count": 1,
   "metadata": {},
   "outputs": [],
   "source": [
    "import pandas as pd\n",
    "import numpy as np\n",
    "import urllib.parse as parse"
   ]
  },
  {
   "cell_type": "code",
   "execution_count": 2,
   "metadata": {},
   "outputs": [],
   "source": [
    "FNAME = 'req2logTEST'"
   ]
  },
  {
   "cell_type": "code",
   "execution_count": 3,
   "metadata": {},
   "outputs": [],
   "source": [
    "df = pd.read_csv(f'dataset/{FNAME}.csv',index_col=0)\n",
    "cols = df.columns\n",
    "df = df.drop(index=0,axis=0)\n",
    "df = df.reset_index(drop=True)"
   ]
  },
  {
   "cell_type": "code",
   "execution_count": 4,
   "metadata": {},
   "outputs": [],
   "source": [
    "req_len = df.loc[:,\"Method:\":\"HTTP_ver:\"]"
   ]
  },
  {
   "cell_type": "code",
   "execution_count": 5,
   "metadata": {},
   "outputs": [
    {
     "output_type": "execute_result",
     "data": {
      "text/plain": [
       "      Method:                                              Path: HTTP_ver:\n",
       "0         GET            http://localhost:8080/tienda1/index.jsp  HTTP/1.1\n",
       "1         GET  http://localhost:8080/tienda1/publico/anadir.j...  HTTP/1.1\n",
       "2        POST   http://localhost:8080/tienda1/publico/anadir.jsp  HTTP/1.1\n",
       "3         GET  http://localhost:8080/tienda1/publico/autentic...  HTTP/1.1\n",
       "4        POST  http://localhost:8080/tienda1/publico/autentic...  HTTP/1.1\n",
       "...       ...                                                ...       ...\n",
       "35994     GET       http://localhost:8080/tienda1/imagenes/1.gif  HTTP/1.1\n",
       "35995     GET       http://localhost:8080/tienda1/imagenes/2.gif  HTTP/1.1\n",
       "35996     GET       http://localhost:8080/tienda1/imagenes/3.gif  HTTP/1.1\n",
       "35997     GET  http://localhost:8080/tienda1/imagenes/cmenbul...  HTTP/1.1\n",
       "35998     GET    http://localhost:8080/tienda1/imagenes/logo.gif  HTTP/1.1\n",
       "\n",
       "[35999 rows x 3 columns]"
      ],
      "text/html": "<div>\n<style scoped>\n    .dataframe tbody tr th:only-of-type {\n        vertical-align: middle;\n    }\n\n    .dataframe tbody tr th {\n        vertical-align: top;\n    }\n\n    .dataframe thead th {\n        text-align: right;\n    }\n</style>\n<table border=\"1\" class=\"dataframe\">\n  <thead>\n    <tr style=\"text-align: right;\">\n      <th></th>\n      <th>Method:</th>\n      <th>Path:</th>\n      <th>HTTP_ver:</th>\n    </tr>\n  </thead>\n  <tbody>\n    <tr>\n      <th>0</th>\n      <td>GET</td>\n      <td>http://localhost:8080/tienda1/index.jsp</td>\n      <td>HTTP/1.1</td>\n    </tr>\n    <tr>\n      <th>1</th>\n      <td>GET</td>\n      <td>http://localhost:8080/tienda1/publico/anadir.j...</td>\n      <td>HTTP/1.1</td>\n    </tr>\n    <tr>\n      <th>2</th>\n      <td>POST</td>\n      <td>http://localhost:8080/tienda1/publico/anadir.jsp</td>\n      <td>HTTP/1.1</td>\n    </tr>\n    <tr>\n      <th>3</th>\n      <td>GET</td>\n      <td>http://localhost:8080/tienda1/publico/autentic...</td>\n      <td>HTTP/1.1</td>\n    </tr>\n    <tr>\n      <th>4</th>\n      <td>POST</td>\n      <td>http://localhost:8080/tienda1/publico/autentic...</td>\n      <td>HTTP/1.1</td>\n    </tr>\n    <tr>\n      <th>...</th>\n      <td>...</td>\n      <td>...</td>\n      <td>...</td>\n    </tr>\n    <tr>\n      <th>35994</th>\n      <td>GET</td>\n      <td>http://localhost:8080/tienda1/imagenes/1.gif</td>\n      <td>HTTP/1.1</td>\n    </tr>\n    <tr>\n      <th>35995</th>\n      <td>GET</td>\n      <td>http://localhost:8080/tienda1/imagenes/2.gif</td>\n      <td>HTTP/1.1</td>\n    </tr>\n    <tr>\n      <th>35996</th>\n      <td>GET</td>\n      <td>http://localhost:8080/tienda1/imagenes/3.gif</td>\n      <td>HTTP/1.1</td>\n    </tr>\n    <tr>\n      <th>35997</th>\n      <td>GET</td>\n      <td>http://localhost:8080/tienda1/imagenes/cmenbul...</td>\n      <td>HTTP/1.1</td>\n    </tr>\n    <tr>\n      <th>35998</th>\n      <td>GET</td>\n      <td>http://localhost:8080/tienda1/imagenes/logo.gif</td>\n      <td>HTTP/1.1</td>\n    </tr>\n  </tbody>\n</table>\n<p>35999 rows × 3 columns</p>\n</div>"
     },
     "metadata": {},
     "execution_count": 5
    }
   ],
   "source": [
    "req_len"
   ]
  },
  {
   "cell_type": "code",
   "execution_count": 6,
   "metadata": {},
   "outputs": [
    {
     "output_type": "execute_result",
     "data": {
      "text/plain": [
       "(35999, 1)"
      ]
     },
     "metadata": {},
     "execution_count": 6
    }
   ],
   "source": [
    "req__len = np.zeros((req_len.shape[0],1))\n",
    "req__len.shape"
   ]
  },
  {
   "cell_type": "code",
   "execution_count": 7,
   "metadata": {
    "tags": []
   },
   "outputs": [
    {
     "output_type": "display_data",
     "data": {
      "text/plain": "0it [00:00, ?it/s]",
      "application/vnd.jupyter.widget-view+json": {
       "version_major": 2,
       "version_minor": 0,
       "model_id": "ee6c95aee3094266b0af50d1460c98a8"
      }
     },
     "metadata": {}
    }
   ],
   "source": [
    "from tqdm.notebook import tqdm\n",
    "for i,d in tqdm(enumerate(req_len.itertuples(index=False))):\n",
    "    leng =0\n",
    "    for o in d:\n",
    "        leng +=len(repr(o))\n",
    "    req__len[i]=leng"
   ]
  },
  {
   "cell_type": "code",
   "execution_count": 8,
   "metadata": {},
   "outputs": [
    {
     "output_type": "stream",
     "name": "stdout",
     "text": [
      "[[ 56.]\n [140.]\n [ 66.]\n ...\n [ 61.]\n [ 67.]\n [ 64.]]\n"
     ]
    }
   ],
   "source": [
    "print(req__len)"
   ]
  },
  {
   "cell_type": "code",
   "execution_count": 9,
   "metadata": {},
   "outputs": [],
   "source": [
    "arg_len = df.loc[:,[\"Path:\",\"Arg:\"]]"
   ]
  },
  {
   "cell_type": "code",
   "execution_count": 10,
   "metadata": {},
   "outputs": [
    {
     "output_type": "execute_result",
     "data": {
      "text/plain": [
       "                                                   Path:  \\\n",
       "0                http://localhost:8080/tienda1/index.jsp   \n",
       "1      http://localhost:8080/tienda1/publico/anadir.j...   \n",
       "2       http://localhost:8080/tienda1/publico/anadir.jsp   \n",
       "3      http://localhost:8080/tienda1/publico/autentic...   \n",
       "4      http://localhost:8080/tienda1/publico/autentic...   \n",
       "...                                                  ...   \n",
       "35994       http://localhost:8080/tienda1/imagenes/1.gif   \n",
       "35995       http://localhost:8080/tienda1/imagenes/2.gif   \n",
       "35996       http://localhost:8080/tienda1/imagenes/3.gif   \n",
       "35997  http://localhost:8080/tienda1/imagenes/cmenbul...   \n",
       "35998    http://localhost:8080/tienda1/imagenes/logo.gif   \n",
       "\n",
       "                                                    Arg:  \n",
       "0                                                    NaN  \n",
       "1                                                    NaN  \n",
       "2      id=1&nombre=Jam%F3n+Ib%E9rico&precio=39&cantid...  \n",
       "3                                                    NaN  \n",
       "4      modo=entrar&login=caria&pwd=egipciaca&remember...  \n",
       "...                                                  ...  \n",
       "35994                                                NaN  \n",
       "35995                                                NaN  \n",
       "35996                                                NaN  \n",
       "35997                                                NaN  \n",
       "35998                                                NaN  \n",
       "\n",
       "[35999 rows x 2 columns]"
      ],
      "text/html": "<div>\n<style scoped>\n    .dataframe tbody tr th:only-of-type {\n        vertical-align: middle;\n    }\n\n    .dataframe tbody tr th {\n        vertical-align: top;\n    }\n\n    .dataframe thead th {\n        text-align: right;\n    }\n</style>\n<table border=\"1\" class=\"dataframe\">\n  <thead>\n    <tr style=\"text-align: right;\">\n      <th></th>\n      <th>Path:</th>\n      <th>Arg:</th>\n    </tr>\n  </thead>\n  <tbody>\n    <tr>\n      <th>0</th>\n      <td>http://localhost:8080/tienda1/index.jsp</td>\n      <td>NaN</td>\n    </tr>\n    <tr>\n      <th>1</th>\n      <td>http://localhost:8080/tienda1/publico/anadir.j...</td>\n      <td>NaN</td>\n    </tr>\n    <tr>\n      <th>2</th>\n      <td>http://localhost:8080/tienda1/publico/anadir.jsp</td>\n      <td>id=1&amp;nombre=Jam%F3n+Ib%E9rico&amp;precio=39&amp;cantid...</td>\n    </tr>\n    <tr>\n      <th>3</th>\n      <td>http://localhost:8080/tienda1/publico/autentic...</td>\n      <td>NaN</td>\n    </tr>\n    <tr>\n      <th>4</th>\n      <td>http://localhost:8080/tienda1/publico/autentic...</td>\n      <td>modo=entrar&amp;login=caria&amp;pwd=egipciaca&amp;remember...</td>\n    </tr>\n    <tr>\n      <th>...</th>\n      <td>...</td>\n      <td>...</td>\n    </tr>\n    <tr>\n      <th>35994</th>\n      <td>http://localhost:8080/tienda1/imagenes/1.gif</td>\n      <td>NaN</td>\n    </tr>\n    <tr>\n      <th>35995</th>\n      <td>http://localhost:8080/tienda1/imagenes/2.gif</td>\n      <td>NaN</td>\n    </tr>\n    <tr>\n      <th>35996</th>\n      <td>http://localhost:8080/tienda1/imagenes/3.gif</td>\n      <td>NaN</td>\n    </tr>\n    <tr>\n      <th>35997</th>\n      <td>http://localhost:8080/tienda1/imagenes/cmenbul...</td>\n      <td>NaN</td>\n    </tr>\n    <tr>\n      <th>35998</th>\n      <td>http://localhost:8080/tienda1/imagenes/logo.gif</td>\n      <td>NaN</td>\n    </tr>\n  </tbody>\n</table>\n<p>35999 rows × 2 columns</p>\n</div>"
     },
     "metadata": {},
     "execution_count": 10
    }
   ],
   "source": [
    "arg_len"
   ]
  },
  {
   "cell_type": "code",
   "execution_count": 11,
   "metadata": {
    "tags": []
   },
   "outputs": [],
   "source": [
    "arg__len = np.zeros((arg_len.shape[0]))\n",
    "import math\n",
    "for i,d in enumerate(arg_len.itertuples(index=False)):\n",
    "    try:\n",
    "        if math.isnan(d[1]):\n",
    "            try:\n",
    "                arg = d[0].split('?')\n",
    "                # print(d)\n",
    "                arg = arg[1]        \n",
    "            except IndexError:\n",
    "                arg = ''\n",
    "    except:\n",
    "        arg=d[1]\n",
    "    # print(arg)\n",
    "    # print(len(repr(arg)))\n",
    "    # break\n",
    "    arg__len[i]= len(repr(arg))"
   ]
  },
  {
   "cell_type": "code",
   "execution_count": 12,
   "metadata": {},
   "outputs": [],
   "source": [
    "arg__len = arg__len-2"
   ]
  },
  {
   "cell_type": "code",
   "execution_count": 13,
   "metadata": {},
   "outputs": [],
   "source": [
    "import math\n",
    "arg_ = []\n",
    "for i,d in enumerate(arg_len.itertuples(index=False)):\n",
    "    try:\n",
    "        if math.isnan(d[1]):\n",
    "            try:\n",
    "                arg = d[0].split('?')\n",
    "                # print(d)\n",
    "                arg = arg[1]        \n",
    "            except IndexError:\n",
    "                arg = ''\n",
    "    except:\n",
    "        arg=d[1]\n",
    "    arg_.append(arg)"
   ]
  },
  {
   "cell_type": "code",
   "execution_count": 14,
   "metadata": {},
   "outputs": [],
   "source": [
    "df2 = pd.DataFrame(arg_,index=None,columns=['Arg:'])"
   ]
  },
  {
   "cell_type": "code",
   "execution_count": 15,
   "metadata": {},
   "outputs": [],
   "source": [
    "# df2"
   ]
  },
  {
   "cell_type": "code",
   "execution_count": 16,
   "metadata": {},
   "outputs": [],
   "source": [
    "df = df.drop(columns=[\"Arg:\"],axis=1)"
   ]
  },
  {
   "cell_type": "code",
   "execution_count": 17,
   "metadata": {},
   "outputs": [],
   "source": [
    "df3 = pd.concat([df,df2 ],ignore_index=True,axis=1)\n",
    "df3.columns=cols"
   ]
  },
  {
   "cell_type": "code",
   "execution_count": 18,
   "metadata": {},
   "outputs": [],
   "source": [
    "df3 = df3.replace(r'^\\s*$', np.nan, regex=True)"
   ]
  },
  {
   "cell_type": "code",
   "execution_count": 19,
   "metadata": {},
   "outputs": [],
   "source": [
    "df3.to_csv(f'dataset/{FNAME}2.csv')"
   ]
  },
  {
   "cell_type": "code",
   "execution_count": 20,
   "metadata": {},
   "outputs": [],
   "source": [
    "df3 = pd.read_csv(f'dataset/{FNAME}2.csv',index_col=0)"
   ]
  },
  {
   "cell_type": "code",
   "execution_count": 21,
   "metadata": {},
   "outputs": [
    {
     "output_type": "execute_result",
     "data": {
      "text/plain": [
       "      Method:                                              Path: HTTP_ver:  \\\n",
       "0         GET            http://localhost:8080/tienda1/index.jsp  HTTP/1.1   \n",
       "1         GET  http://localhost:8080/tienda1/publico/anadir.j...  HTTP/1.1   \n",
       "2        POST   http://localhost:8080/tienda1/publico/anadir.jsp  HTTP/1.1   \n",
       "3         GET  http://localhost:8080/tienda1/publico/autentic...  HTTP/1.1   \n",
       "4        POST  http://localhost:8080/tienda1/publico/autentic...  HTTP/1.1   \n",
       "...       ...                                                ...       ...   \n",
       "35994     GET       http://localhost:8080/tienda1/imagenes/1.gif  HTTP/1.1   \n",
       "35995     GET       http://localhost:8080/tienda1/imagenes/2.gif  HTTP/1.1   \n",
       "35996     GET       http://localhost:8080/tienda1/imagenes/3.gif  HTTP/1.1   \n",
       "35997     GET  http://localhost:8080/tienda1/imagenes/cmenbul...  HTTP/1.1   \n",
       "35998     GET    http://localhost:8080/tienda1/imagenes/logo.gif  HTTP/1.1   \n",
       "\n",
       "       Request:                                        User-Agent:   Pragma:  \\\n",
       "0           NaN  Mozilla/5.0, (compatible;, Konqueror/3.5;, Lin...  no-cache   \n",
       "1           NaN  Mozilla/5.0, (compatible;, Konqueror/3.5;, Lin...  no-cache   \n",
       "2           NaN  Mozilla/5.0, (compatible;, Konqueror/3.5;, Lin...  no-cache   \n",
       "3           NaN  Mozilla/5.0, (compatible;, Konqueror/3.5;, Lin...  no-cache   \n",
       "4           NaN  Mozilla/5.0, (compatible;, Konqueror/3.5;, Lin...  no-cache   \n",
       "...         ...                                                ...       ...   \n",
       "35994       NaN  Mozilla/5.0, (compatible;, Konqueror/3.5;, Lin...  no-cache   \n",
       "35995       NaN  Mozilla/5.0, (compatible;, Konqueror/3.5;, Lin...  no-cache   \n",
       "35996       NaN  Mozilla/5.0, (compatible;, Konqueror/3.5;, Lin...  no-cache   \n",
       "35997       NaN  Mozilla/5.0, (compatible;, Konqueror/3.5;, Lin...  no-cache   \n",
       "35998       NaN  Mozilla/5.0, (compatible;, Konqueror/3.5;, Lin...  no-cache   \n",
       "\n",
       "      Cache-control:                                            Accept:  \\\n",
       "0           no-cache  text/xml,application/xml,application/xhtml+xml...   \n",
       "1           no-cache  text/xml,application/xml,application/xhtml+xml...   \n",
       "2           no-cache  text/xml,application/xml,application/xhtml+xml...   \n",
       "3           no-cache  text/xml,application/xml,application/xhtml+xml...   \n",
       "4           no-cache  text/xml,application/xml,application/xhtml+xml...   \n",
       "...              ...                                                ...   \n",
       "35994       no-cache  text/xml,application/xml,application/xhtml+xml...   \n",
       "35995       no-cache  text/xml,application/xml,application/xhtml+xml...   \n",
       "35996       no-cache  text/xml,application/xml,application/xhtml+xml...   \n",
       "35997       no-cache  text/xml,application/xml,application/xhtml+xml...   \n",
       "35998       no-cache  text/xml,application/xml,application/xhtml+xml...   \n",
       "\n",
       "                          Accept-Encoding:                Accept-Charset:  \\\n",
       "0      x-gzip,, x-deflate,, gzip,, deflate  utf-8,, utf-8;q=0.5,, *;q=0.5   \n",
       "1      x-gzip,, x-deflate,, gzip,, deflate  utf-8,, utf-8;q=0.5,, *;q=0.5   \n",
       "2      x-gzip,, x-deflate,, gzip,, deflate  utf-8,, utf-8;q=0.5,, *;q=0.5   \n",
       "3      x-gzip,, x-deflate,, gzip,, deflate  utf-8,, utf-8;q=0.5,, *;q=0.5   \n",
       "4      x-gzip,, x-deflate,, gzip,, deflate  utf-8,, utf-8;q=0.5,, *;q=0.5   \n",
       "...                                    ...                            ...   \n",
       "35994  x-gzip,, x-deflate,, gzip,, deflate  utf-8,, utf-8;q=0.5,, *;q=0.5   \n",
       "35995  x-gzip,, x-deflate,, gzip,, deflate  utf-8,, utf-8;q=0.5,, *;q=0.5   \n",
       "35996  x-gzip,, x-deflate,, gzip,, deflate  utf-8,, utf-8;q=0.5,, *;q=0.5   \n",
       "35997  x-gzip,, x-deflate,, gzip,, deflate  utf-8,, utf-8;q=0.5,, *;q=0.5   \n",
       "35998  x-gzip,, x-deflate,, gzip,, deflate  utf-8,, utf-8;q=0.5,, *;q=0.5   \n",
       "\n",
       "      Accept-Language:           Host:  \\\n",
       "0                   en  localhost:8080   \n",
       "1                   en  localhost:8080   \n",
       "2                   en  localhost:8080   \n",
       "3                   en  localhost:8080   \n",
       "4                   en  localhost:8080   \n",
       "...                ...             ...   \n",
       "35994               en  localhost:8080   \n",
       "35995               en  localhost:8080   \n",
       "35996               en  localhost:8080   \n",
       "35997               en  localhost:8080   \n",
       "35998               en  localhost:8080   \n",
       "\n",
       "                                           Cookie: Connection:  \\\n",
       "0      JSESSIONID=EA414B3E327DED6875848530C864BD8F       close   \n",
       "1      JSESSIONID=54E25FF4B7F0E4E855B112F882E9EEA5       close   \n",
       "2      JSESSIONID=788887A0F479749C4CEEA1E268B4A501       close   \n",
       "3      JSESSIONID=94ECD5EE8EF7EFE4BB26C701B150ED7B       close   \n",
       "4      JSESSIONID=23391DBBADEC19FE01E02D201F278C6A       close   \n",
       "...                                            ...         ...   \n",
       "35994  JSESSIONID=45F0C902FB5B9D7FA05519F57AD7757B       close   \n",
       "35995  JSESSIONID=E1E16AC490F40B8484CD75E2DBE32075       close   \n",
       "35996  JSESSIONID=4567793E184E0925234DADCEECD6999A       close   \n",
       "35997  JSESSIONID=487FD70FECB4D14155C95F38C389DA0D       close   \n",
       "35998  JSESSIONID=6E0F5F3BC982DFC73B39EAD495ADCE96       close   \n",
       "\n",
       "                           Content-Type:  Content-Length:  \\\n",
       "0                                    NaN              NaN   \n",
       "1                                    NaN              NaN   \n",
       "2      application/x-www-form-urlencoded             74.0   \n",
       "3                                    NaN              NaN   \n",
       "4      application/x-www-form-urlencoded             60.0   \n",
       "...                                  ...              ...   \n",
       "35994                                NaN              NaN   \n",
       "35995                                NaN              NaN   \n",
       "35996                                NaN              NaN   \n",
       "35997                                NaN              NaN   \n",
       "35998                                NaN              NaN   \n",
       "\n",
       "                                                    Arg:  \n",
       "0                                                    NaN  \n",
       "1      id=1&nombre=Jam%F3n+Ib%E9rico&precio=39&cantid...  \n",
       "2      id=1&nombre=Jam%F3n+Ib%E9rico&precio=39&cantid...  \n",
       "3      modo=entrar&login=caria&pwd=egipciaca&remember...  \n",
       "4      modo=entrar&login=caria&pwd=egipciaca&remember...  \n",
       "...                                                  ...  \n",
       "35994                                                NaN  \n",
       "35995                                                NaN  \n",
       "35996                                                NaN  \n",
       "35997                                                NaN  \n",
       "35998                                                NaN  \n",
       "\n",
       "[35999 rows x 17 columns]"
      ],
      "text/html": "<div>\n<style scoped>\n    .dataframe tbody tr th:only-of-type {\n        vertical-align: middle;\n    }\n\n    .dataframe tbody tr th {\n        vertical-align: top;\n    }\n\n    .dataframe thead th {\n        text-align: right;\n    }\n</style>\n<table border=\"1\" class=\"dataframe\">\n  <thead>\n    <tr style=\"text-align: right;\">\n      <th></th>\n      <th>Method:</th>\n      <th>Path:</th>\n      <th>HTTP_ver:</th>\n      <th>Request:</th>\n      <th>User-Agent:</th>\n      <th>Pragma:</th>\n      <th>Cache-control:</th>\n      <th>Accept:</th>\n      <th>Accept-Encoding:</th>\n      <th>Accept-Charset:</th>\n      <th>Accept-Language:</th>\n      <th>Host:</th>\n      <th>Cookie:</th>\n      <th>Connection:</th>\n      <th>Content-Type:</th>\n      <th>Content-Length:</th>\n      <th>Arg:</th>\n    </tr>\n  </thead>\n  <tbody>\n    <tr>\n      <th>0</th>\n      <td>GET</td>\n      <td>http://localhost:8080/tienda1/index.jsp</td>\n      <td>HTTP/1.1</td>\n      <td>NaN</td>\n      <td>Mozilla/5.0, (compatible;, Konqueror/3.5;, Lin...</td>\n      <td>no-cache</td>\n      <td>no-cache</td>\n      <td>text/xml,application/xml,application/xhtml+xml...</td>\n      <td>x-gzip,, x-deflate,, gzip,, deflate</td>\n      <td>utf-8,, utf-8;q=0.5,, *;q=0.5</td>\n      <td>en</td>\n      <td>localhost:8080</td>\n      <td>JSESSIONID=EA414B3E327DED6875848530C864BD8F</td>\n      <td>close</td>\n      <td>NaN</td>\n      <td>NaN</td>\n      <td>NaN</td>\n    </tr>\n    <tr>\n      <th>1</th>\n      <td>GET</td>\n      <td>http://localhost:8080/tienda1/publico/anadir.j...</td>\n      <td>HTTP/1.1</td>\n      <td>NaN</td>\n      <td>Mozilla/5.0, (compatible;, Konqueror/3.5;, Lin...</td>\n      <td>no-cache</td>\n      <td>no-cache</td>\n      <td>text/xml,application/xml,application/xhtml+xml...</td>\n      <td>x-gzip,, x-deflate,, gzip,, deflate</td>\n      <td>utf-8,, utf-8;q=0.5,, *;q=0.5</td>\n      <td>en</td>\n      <td>localhost:8080</td>\n      <td>JSESSIONID=54E25FF4B7F0E4E855B112F882E9EEA5</td>\n      <td>close</td>\n      <td>NaN</td>\n      <td>NaN</td>\n      <td>id=1&amp;nombre=Jam%F3n+Ib%E9rico&amp;precio=39&amp;cantid...</td>\n    </tr>\n    <tr>\n      <th>2</th>\n      <td>POST</td>\n      <td>http://localhost:8080/tienda1/publico/anadir.jsp</td>\n      <td>HTTP/1.1</td>\n      <td>NaN</td>\n      <td>Mozilla/5.0, (compatible;, Konqueror/3.5;, Lin...</td>\n      <td>no-cache</td>\n      <td>no-cache</td>\n      <td>text/xml,application/xml,application/xhtml+xml...</td>\n      <td>x-gzip,, x-deflate,, gzip,, deflate</td>\n      <td>utf-8,, utf-8;q=0.5,, *;q=0.5</td>\n      <td>en</td>\n      <td>localhost:8080</td>\n      <td>JSESSIONID=788887A0F479749C4CEEA1E268B4A501</td>\n      <td>close</td>\n      <td>application/x-www-form-urlencoded</td>\n      <td>74.0</td>\n      <td>id=1&amp;nombre=Jam%F3n+Ib%E9rico&amp;precio=39&amp;cantid...</td>\n    </tr>\n    <tr>\n      <th>3</th>\n      <td>GET</td>\n      <td>http://localhost:8080/tienda1/publico/autentic...</td>\n      <td>HTTP/1.1</td>\n      <td>NaN</td>\n      <td>Mozilla/5.0, (compatible;, Konqueror/3.5;, Lin...</td>\n      <td>no-cache</td>\n      <td>no-cache</td>\n      <td>text/xml,application/xml,application/xhtml+xml...</td>\n      <td>x-gzip,, x-deflate,, gzip,, deflate</td>\n      <td>utf-8,, utf-8;q=0.5,, *;q=0.5</td>\n      <td>en</td>\n      <td>localhost:8080</td>\n      <td>JSESSIONID=94ECD5EE8EF7EFE4BB26C701B150ED7B</td>\n      <td>close</td>\n      <td>NaN</td>\n      <td>NaN</td>\n      <td>modo=entrar&amp;login=caria&amp;pwd=egipciaca&amp;remember...</td>\n    </tr>\n    <tr>\n      <th>4</th>\n      <td>POST</td>\n      <td>http://localhost:8080/tienda1/publico/autentic...</td>\n      <td>HTTP/1.1</td>\n      <td>NaN</td>\n      <td>Mozilla/5.0, (compatible;, Konqueror/3.5;, Lin...</td>\n      <td>no-cache</td>\n      <td>no-cache</td>\n      <td>text/xml,application/xml,application/xhtml+xml...</td>\n      <td>x-gzip,, x-deflate,, gzip,, deflate</td>\n      <td>utf-8,, utf-8;q=0.5,, *;q=0.5</td>\n      <td>en</td>\n      <td>localhost:8080</td>\n      <td>JSESSIONID=23391DBBADEC19FE01E02D201F278C6A</td>\n      <td>close</td>\n      <td>application/x-www-form-urlencoded</td>\n      <td>60.0</td>\n      <td>modo=entrar&amp;login=caria&amp;pwd=egipciaca&amp;remember...</td>\n    </tr>\n    <tr>\n      <th>...</th>\n      <td>...</td>\n      <td>...</td>\n      <td>...</td>\n      <td>...</td>\n      <td>...</td>\n      <td>...</td>\n      <td>...</td>\n      <td>...</td>\n      <td>...</td>\n      <td>...</td>\n      <td>...</td>\n      <td>...</td>\n      <td>...</td>\n      <td>...</td>\n      <td>...</td>\n      <td>...</td>\n      <td>...</td>\n    </tr>\n    <tr>\n      <th>35994</th>\n      <td>GET</td>\n      <td>http://localhost:8080/tienda1/imagenes/1.gif</td>\n      <td>HTTP/1.1</td>\n      <td>NaN</td>\n      <td>Mozilla/5.0, (compatible;, Konqueror/3.5;, Lin...</td>\n      <td>no-cache</td>\n      <td>no-cache</td>\n      <td>text/xml,application/xml,application/xhtml+xml...</td>\n      <td>x-gzip,, x-deflate,, gzip,, deflate</td>\n      <td>utf-8,, utf-8;q=0.5,, *;q=0.5</td>\n      <td>en</td>\n      <td>localhost:8080</td>\n      <td>JSESSIONID=45F0C902FB5B9D7FA05519F57AD7757B</td>\n      <td>close</td>\n      <td>NaN</td>\n      <td>NaN</td>\n      <td>NaN</td>\n    </tr>\n    <tr>\n      <th>35995</th>\n      <td>GET</td>\n      <td>http://localhost:8080/tienda1/imagenes/2.gif</td>\n      <td>HTTP/1.1</td>\n      <td>NaN</td>\n      <td>Mozilla/5.0, (compatible;, Konqueror/3.5;, Lin...</td>\n      <td>no-cache</td>\n      <td>no-cache</td>\n      <td>text/xml,application/xml,application/xhtml+xml...</td>\n      <td>x-gzip,, x-deflate,, gzip,, deflate</td>\n      <td>utf-8,, utf-8;q=0.5,, *;q=0.5</td>\n      <td>en</td>\n      <td>localhost:8080</td>\n      <td>JSESSIONID=E1E16AC490F40B8484CD75E2DBE32075</td>\n      <td>close</td>\n      <td>NaN</td>\n      <td>NaN</td>\n      <td>NaN</td>\n    </tr>\n    <tr>\n      <th>35996</th>\n      <td>GET</td>\n      <td>http://localhost:8080/tienda1/imagenes/3.gif</td>\n      <td>HTTP/1.1</td>\n      <td>NaN</td>\n      <td>Mozilla/5.0, (compatible;, Konqueror/3.5;, Lin...</td>\n      <td>no-cache</td>\n      <td>no-cache</td>\n      <td>text/xml,application/xml,application/xhtml+xml...</td>\n      <td>x-gzip,, x-deflate,, gzip,, deflate</td>\n      <td>utf-8,, utf-8;q=0.5,, *;q=0.5</td>\n      <td>en</td>\n      <td>localhost:8080</td>\n      <td>JSESSIONID=4567793E184E0925234DADCEECD6999A</td>\n      <td>close</td>\n      <td>NaN</td>\n      <td>NaN</td>\n      <td>NaN</td>\n    </tr>\n    <tr>\n      <th>35997</th>\n      <td>GET</td>\n      <td>http://localhost:8080/tienda1/imagenes/cmenbul...</td>\n      <td>HTTP/1.1</td>\n      <td>NaN</td>\n      <td>Mozilla/5.0, (compatible;, Konqueror/3.5;, Lin...</td>\n      <td>no-cache</td>\n      <td>no-cache</td>\n      <td>text/xml,application/xml,application/xhtml+xml...</td>\n      <td>x-gzip,, x-deflate,, gzip,, deflate</td>\n      <td>utf-8,, utf-8;q=0.5,, *;q=0.5</td>\n      <td>en</td>\n      <td>localhost:8080</td>\n      <td>JSESSIONID=487FD70FECB4D14155C95F38C389DA0D</td>\n      <td>close</td>\n      <td>NaN</td>\n      <td>NaN</td>\n      <td>NaN</td>\n    </tr>\n    <tr>\n      <th>35998</th>\n      <td>GET</td>\n      <td>http://localhost:8080/tienda1/imagenes/logo.gif</td>\n      <td>HTTP/1.1</td>\n      <td>NaN</td>\n      <td>Mozilla/5.0, (compatible;, Konqueror/3.5;, Lin...</td>\n      <td>no-cache</td>\n      <td>no-cache</td>\n      <td>text/xml,application/xml,application/xhtml+xml...</td>\n      <td>x-gzip,, x-deflate,, gzip,, deflate</td>\n      <td>utf-8,, utf-8;q=0.5,, *;q=0.5</td>\n      <td>en</td>\n      <td>localhost:8080</td>\n      <td>JSESSIONID=6E0F5F3BC982DFC73B39EAD495ADCE96</td>\n      <td>close</td>\n      <td>NaN</td>\n      <td>NaN</td>\n      <td>NaN</td>\n    </tr>\n  </tbody>\n</table>\n<p>35999 rows × 17 columns</p>\n</div>"
     },
     "metadata": {},
     "execution_count": 21
    }
   ],
   "source": [
    "df3"
   ]
  },
  {
   "cell_type": "code",
   "execution_count": 22,
   "metadata": {
    "tags": []
   },
   "outputs": [],
   "source": [
    "#######################################     Number of Argument      #############################\n",
    "\n",
    "num_arg= np.zeros(df3.shape[0])\n",
    "\n",
    "for i,d in enumerate(df3[\"Arg:\"]):\n",
    "    num=0\n",
    "    # print(d)\n",
    "    try:\n",
    "        if math.isnan(d):\n",
    "            num=0\n",
    "    except:\n",
    "        num = d.count('=')\n",
    "    num_arg[i]=num\n",
    "    # print(num)\n",
    "    # if i ==10: break"
   ]
  },
  {
   "cell_type": "code",
   "execution_count": 23,
   "metadata": {},
   "outputs": [],
   "source": [
    "###################################     Path of Length      ###################################\n",
    "\n",
    "path_len = np.zeros(df3.shape[0])\n",
    "\n",
    "for i, d in enumerate(df3[\"Path:\"]):\n",
    "    l = 0\n",
    "    l = len(d)\n",
    "    # print(l)\n",
    "    # break\n",
    "    path_len[i]=l"
   ]
  },
  {
   "cell_type": "code",
   "execution_count": 24,
   "metadata": {},
   "outputs": [],
   "source": [
    "################################        Special Char Number     #############################\n",
    "import re\n",
    "spchar_num = np.zeros((df3.shape[0]))\n",
    "for i,d in enumerate(df3[\"Path:\"]):\n",
    "    match = re.findall(\"[^a-zA-Z0-9_]\",d)\n",
    "    # print(len(match))\n",
    "    # break\n",
    "    spchar_num[i]=len(match)\n"
   ]
  },
  {
   "cell_type": "code",
   "execution_count": 25,
   "metadata": {},
   "outputs": [],
   "source": [
    "ar = np.concatenate([req__len.reshape(-1,1),arg__len.reshape(-1,1),num_arg.reshape(-1,1),path_len.reshape(-1,1),spchar_num.reshape(-1,1)],axis=1)"
   ]
  },
  {
   "cell_type": "code",
   "execution_count": 26,
   "metadata": {},
   "outputs": [],
   "source": [
    "np.save(f'dataset/{FNAME}.npy',ar)"
   ]
  },
  {
   "cell_type": "code",
   "execution_count": 27,
   "metadata": {},
   "outputs": [],
   "source": [
    "pd.DataFrame(ar,columns=[\"req_len\",\"arg_len\",\"num_arg\",\"path_len\",\"spchar_num\"],index=None).to_csv('dataset/Anomal_feature')"
   ]
  }
 ]
}